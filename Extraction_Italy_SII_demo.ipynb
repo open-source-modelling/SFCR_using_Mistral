{
 "cells": [
  {
   "cell_type": "markdown",
   "id": "0f013211-9905-498f-a552-79c1517e6c3c",
   "metadata": {},
   "source": [
    "# Italian Solvency reports Table S.02.01.02; Part 1 Extraction"
   ]
  },
  {
   "cell_type": "markdown",
   "id": "82f88895-40d0-460b-a886-4b55eccf69e7",
   "metadata": {},
   "source": [
    "The scope of this script is to transcribe SFCR table S.02.01.02 for the 18 life insurance companies on the Italian market. The notebook is organized into the following sections:\n",
    "\n",
    "1) Companies and tables in scope\n",
    "2) Packages and tools\n",
    "3) Generation of DataFrames"
   ]
  },
  {
   "cell_type": "markdown",
   "id": "eabd6f8c-055a-4fc6-885d-5dcf346abc6a",
   "metadata": {},
   "source": [
    "## Companies in scope\n",
    "\n",
    "For the year 2024, the companies in scope are the following:\n",
    "\n",
    " - Credemvita S.p.A.\n",
    " - AXA MPS Assicurazioni Vita\n",
    " - CRÈDIT AGRICOLE VITA\n",
    " - Società Reale Mutua di Assicurazioni\n",
    " - Cardif Vita S.p.A.\n",
    " - MEDIOLANUM VITA S.p.A.\n",
    " - Generali Italia S.p.A.\n",
    " - Banco BPM Vita S.p.A.\n",
    " - HDI ASSICURAZIONI S.p.A.\n",
    " - Gruppo Assicurativo Poste Vita\n",
    " - FIDEURAM VITA S.P.A.\n",
    " - CNP Vita Assicura S.p.A.\n",
    " - ITAS VITA\n",
    " - Helvetia Vita S.p.A.\n",
    " - Vittoria Assicurazioni S.p.A.\n",
    " - GROUPAMA ASSICURAZIONI S.P.A.\n",
    " - UniCredit Allianz Vita S.p.A.\n",
    " - Zurich Investments Life S.p.A.\n",
    "\n",
    "### Solvency and Financial condition reports\n",
    "According to Article 51 of the Solvency II Directive 2009/138/EC, companies under the regulatory umbrella of EIOPA, companies must publish annually a Solvency and Financial Condition Reports (SFCR) for all legal entities.\n",
    "\n",
    "Part of the report is mandatory tables that show some financial and actuarial indicators. One such table is S.02.01.02 which shows a simplified balance sheet of the legal entity. This table is inside the scope of this demo."
   ]
  },
  {
   "cell_type": "markdown",
   "id": "c1be6234-360c-423f-ae7a-976ab9b1dd3f",
   "metadata": {},
   "source": [
    "## Description of the process\n",
    "\n",
    "The process of extraction is performed in 5 phases:\n",
    "\n",
    "### Phase 1: Find the reports and identify the relevant tables. \n",
    " 1) Identify the new SFCR report and save it into the folder Input.\n",
    " 2) Identify the pages where the tables of interest are.\n",
    " 3) Compile the map of the company run in the master_list.csv.\n",
    "\n",
    "### Phase 2: Run the Extraction script (this script). \n",
    "The script performs the following steps (with slight modifications depending on the table format):\n",
    " 1) Save the page with the table into a separate folder Single_pdf.\n",
    " 2) Use either a Python package or specialized LLM to create a digital equivalent of the table.\n",
    " 3) Fix the systemic errors that prevent the table from being saved as DataFrame.\n",
    " 4) Save the DataFrame into the Output folder.\n",
    "\n",
    "### Phase 3: Run the Processing script. \n",
    "The script applies fixes to the DataFrame to make the numbers closer to the reported numbers. It joins all the tables into a single dataset. \n",
    "\n",
    "### Phase 4: Run the Cross-Validation script. \n",
    "Applies a series of tests that check for the internal consistency between the numbers. Flags the potential errors.\n",
    "\n",
    "### Phase 5: Final modifications to the table and a manual inspection. "
   ]
  },
  {
   "cell_type": "markdown",
   "id": "3ded06aa-1d04-4d20-a720-c14cf1aa3efe",
   "metadata": {},
   "source": [
    "## Necessary Python packages"
   ]
  },
  {
   "cell_type": "code",
   "execution_count": 1,
   "id": "b9c7eb01-fc8b-4bce-928b-83b84d99d692",
   "metadata": {},
   "outputs": [
    {
     "name": "stdout",
     "output_type": "stream",
     "text": [
      "Requirement already satisfied: PyPDF2 in c:\\users\\grego\\anaconda3\\lib\\site-packages (3.0.1)\n",
      "Requirement already satisfied: pdfplumber in c:\\users\\grego\\anaconda3\\lib\\site-packages (0.11.7)\n",
      "Requirement already satisfied: pdfminer.six==20250506 in c:\\users\\grego\\anaconda3\\lib\\site-packages (from pdfplumber) (20250506)\n",
      "Requirement already satisfied: Pillow>=9.1 in c:\\users\\grego\\anaconda3\\lib\\site-packages (from pdfplumber) (10.3.0)\n",
      "Requirement already satisfied: pypdfium2>=4.18.0 in c:\\users\\grego\\anaconda3\\lib\\site-packages (from pdfplumber) (4.30.0)\n",
      "Requirement already satisfied: charset-normalizer>=2.0.0 in c:\\users\\grego\\anaconda3\\lib\\site-packages (from pdfminer.six==20250506->pdfplumber) (2.0.4)\n",
      "Requirement already satisfied: cryptography>=36.0.0 in c:\\users\\grego\\anaconda3\\lib\\site-packages (from pdfminer.six==20250506->pdfplumber) (42.0.5)\n",
      "Requirement already satisfied: cffi>=1.12 in c:\\users\\grego\\anaconda3\\lib\\site-packages (from cryptography>=36.0.0->pdfminer.six==20250506->pdfplumber) (1.16.0)\n",
      "Requirement already satisfied: pycparser in c:\\users\\grego\\anaconda3\\lib\\site-packages (from cffi>=1.12->cryptography>=36.0.0->pdfminer.six==20250506->pdfplumber) (2.21)\n",
      "Note: you may need to restart the kernel to use updated packages.\n"
     ]
    }
   ],
   "source": [
    "pip install PyPDF2 pdfplumber"
   ]
  },
  {
   "cell_type": "code",
   "execution_count": 2,
   "id": "7aa8d337-5fae-46af-afbf-2b1ce8490d70",
   "metadata": {},
   "outputs": [
    {
     "name": "stdout",
     "output_type": "stream",
     "text": [
      "Requirement already satisfied: mistralai in c:\\users\\grego\\anaconda3\\lib\\site-packages (1.9.3)\n",
      "Requirement already satisfied: eval-type-backport>=0.2.0 in c:\\users\\grego\\anaconda3\\lib\\site-packages (from mistralai) (0.2.2)\n",
      "Requirement already satisfied: httpx>=0.28.1 in c:\\users\\grego\\anaconda3\\lib\\site-packages (from mistralai) (0.28.1)\n",
      "Requirement already satisfied: pydantic>=2.10.3 in c:\\users\\grego\\anaconda3\\lib\\site-packages (from mistralai) (2.11.7)\n",
      "Requirement already satisfied: python-dateutil>=2.8.2 in c:\\users\\grego\\anaconda3\\lib\\site-packages (from mistralai) (2.9.0.post0)\n",
      "Requirement already satisfied: typing-inspection>=0.4.0 in c:\\users\\grego\\anaconda3\\lib\\site-packages (from mistralai) (0.4.1)\n",
      "Requirement already satisfied: anyio in c:\\users\\grego\\anaconda3\\lib\\site-packages (from httpx>=0.28.1->mistralai) (4.2.0)\n",
      "Requirement already satisfied: certifi in c:\\users\\grego\\anaconda3\\lib\\site-packages (from httpx>=0.28.1->mistralai) (2025.8.3)\n",
      "Requirement already satisfied: httpcore==1.* in c:\\users\\grego\\anaconda3\\lib\\site-packages (from httpx>=0.28.1->mistralai) (1.0.9)\n",
      "Requirement already satisfied: idna in c:\\users\\grego\\anaconda3\\lib\\site-packages (from httpx>=0.28.1->mistralai) (3.7)\n",
      "Requirement already satisfied: h11>=0.16 in c:\\users\\grego\\anaconda3\\lib\\site-packages (from httpcore==1.*->httpx>=0.28.1->mistralai) (0.16.0)\n",
      "Requirement already satisfied: annotated-types>=0.6.0 in c:\\users\\grego\\anaconda3\\lib\\site-packages (from pydantic>=2.10.3->mistralai) (0.6.0)\n",
      "Requirement already satisfied: pydantic-core==2.33.2 in c:\\users\\grego\\anaconda3\\lib\\site-packages (from pydantic>=2.10.3->mistralai) (2.33.2)\n",
      "Requirement already satisfied: typing-extensions>=4.12.2 in c:\\users\\grego\\anaconda3\\lib\\site-packages (from pydantic>=2.10.3->mistralai) (4.14.1)\n",
      "Requirement already satisfied: six>=1.5 in c:\\users\\grego\\anaconda3\\lib\\site-packages (from python-dateutil>=2.8.2->mistralai) (1.16.0)\n",
      "Requirement already satisfied: sniffio>=1.1 in c:\\users\\grego\\anaconda3\\lib\\site-packages (from anyio->httpx>=0.28.1->mistralai) (1.3.0)\n"
     ]
    }
   ],
   "source": [
    "!pip install mistralai"
   ]
  },
  {
   "cell_type": "code",
   "execution_count": 3,
   "id": "aacd5769-e45f-4588-b2bb-0217f17baa1c",
   "metadata": {},
   "outputs": [
    {
     "name": "stdout",
     "output_type": "stream",
     "text": [
      "Requirement already satisfied: pycryptodome in c:\\users\\grego\\anaconda3\\lib\\site-packages (3.23.0)\n"
     ]
    }
   ],
   "source": [
    "!pip install pycryptodome"
   ]
  },
  {
   "cell_type": "markdown",
   "id": "1a23dc78-0148-4275-88ce-09392f34ba95",
   "metadata": {},
   "source": [
    "## Python packages"
   ]
  },
  {
   "cell_type": "code",
   "execution_count": 4,
   "id": "59e1aab8-5f3f-4f42-892b-6cc5b55f4e30",
   "metadata": {},
   "outputs": [],
   "source": [
    "import re\n",
    "import os\n",
    "import json\n",
    "import base64\n",
    "import pdfplumber\n",
    "import pandas as pd\n",
    "from pathlib import Path\n",
    "from PyPDF2 import PdfReader, PdfWriter\n",
    "from mistralai.models import OCRResponse\n",
    "from IPython.display import Markdown, display\n",
    "from mistralai import Mistral, DocumentURLChunk, ImageURLChunk, TextChunk"
   ]
  },
  {
   "cell_type": "markdown",
   "id": "8320c0c9-5481-46f3-9e3c-56a0a7004ca4",
   "metadata": {},
   "source": [
    "## API key"
   ]
  },
  {
   "cell_type": "markdown",
   "id": "dc566919-5a85-4862-b460-51f51e495b9b",
   "metadata": {},
   "source": [
    "The model of choice for this project is Mistral. This was identified as the most economical choice. Additionally, Mistral released a custom model for OCR tasks. \n",
    "\n",
    "Useful links:\n",
    "\n",
    " - https://docs.mistral.ai/getting-started/quickstart/\n",
    "\n",
    " - https://mistral.ai/news/mistral-ocr"
   ]
  },
  {
   "cell_type": "code",
   "execution_count": 5,
   "id": "bb1b3bf0-db76-49bf-9ed4-9ef8947fe3f9",
   "metadata": {},
   "outputs": [],
   "source": [
    "api_key = \"[YOUR MISTRAL API KEY]\""
   ]
  },
  {
   "cell_type": "markdown",
   "id": "043490cf-981e-4026-97eb-4adb4a9803a6",
   "metadata": {},
   "source": [
    "## Functions"
   ]
  },
  {
   "cell_type": "code",
   "execution_count": 6,
   "id": "1dd23a3f-98e6-4052-906b-35f64693e996",
   "metadata": {},
   "outputs": [],
   "source": [
    "def set_code_index_and_save(table: pd.DataFrame, path: str) -> None:\n",
    "    \"\"\"\n",
    "    Set the 'CODE' column as the index of a DataFrame and save it as a CSV file.\n",
    "    \"\"\"\n",
    "    table = table.set_index(\"CODE\")\n",
    "    table.to_csv(path)"
   ]
  },
  {
   "cell_type": "code",
   "execution_count": 7,
   "id": "c97da414-1952-4237-8b02-4358afb9c1ed",
   "metadata": {},
   "outputs": [],
   "source": [
    "def extract_tables_from_pdf(pdf_path: str, page_number:int=1) -> pd.DataFrame:\n",
    "    \"\"\"\n",
    "    Extract the first table from a specific page of a PDF and return it as a DataFrame.\n",
    "\n",
    "    Parameters\n",
    "    ----------\n",
    "    pdf_path : str or pathlib.Path\n",
    "        Path to the PDF file.\n",
    "    page_number : int, optional (default=1)\n",
    "        The page number to extract the table from (1-indexed, i.e., first page is 1).\n",
    "\n",
    "    Returns\n",
    "    -------\n",
    "    pd.DataFrame\n",
    "        A DataFrame containing the extracted table. The first row of the table is\n",
    "        treated as the header, and the remaining rows as data.\n",
    "\n",
    "    \"\"\"\n",
    "    \n",
    "    with pdfplumber.open(pdf_path) as pdf:\n",
    "        page = pdf.pages[page_number - 1]  # Pages are zero-indexed\n",
    "        tables = page.extract_tables()\n",
    "        df_tables = pd.DataFrame(tables[0][1:], columns=tables[0][0])\n",
    "        return df_tables"
   ]
  },
  {
   "cell_type": "code",
   "execution_count": 8,
   "id": "b6500e7f-621c-4511-9ade-92c2a44a4080",
   "metadata": {},
   "outputs": [],
   "source": [
    "def extract_page(input_pdf_path: str, output_pdf_path: str, page_number: int, password: str = \"\")-> None:\n",
    "    \"\"\"\n",
    "    Extract a single page from a PDF file and save it as a new PDF.\n",
    "    \"\"\"\n",
    "    \n",
    "    pdf_reader = PdfReader(input_pdf_path)\n",
    "    pdf_writer = PdfWriter()\n",
    "\n",
    "    # Decrypt if necessary\n",
    "    if pdf_reader.is_encrypted:\n",
    "        if password:\n",
    "            pdf_reader.decrypt(password)\n",
    "        else:\n",
    "            pdf_reader.decrypt(\"\")  # try empty password\n",
    "    \n",
    "    # Add the specified page to the PdfWriter object\n",
    "    pdf_writer.add_page(pdf_reader.pages[page_number - 1])\n",
    "\n",
    "    # Write the selected page to a new PDF file\n",
    "    with open(output_pdf_path, 'wb') as output_pdf_file:\n",
    "        pdf_writer.write(output_pdf_file)"
   ]
  },
  {
   "cell_type": "code",
   "execution_count": 9,
   "id": "4efc0756-b52f-4529-8adf-13d3bd2faa5c",
   "metadata": {},
   "outputs": [],
   "source": [
    "def encode_pdf(pdf_path: str)-> None:\n",
    "    \"\"\"Encode the pdf to base64.\"\"\"\n",
    "    try:\n",
    "        with open(pdf_path, \"rb\") as pdf_file:\n",
    "            return base64.b64encode(pdf_file.read()).decode('utf-8')\n",
    "    except FileNotFoundError:\n",
    "        print(f\"Error: The file {pdf_path} was not found.\")\n",
    "        return None\n",
    "    except Exception as e:  # Added general exception handling\n",
    "        print(f\"Error: {e}\")\n",
    "        return None"
   ]
  },
  {
   "cell_type": "code",
   "execution_count": 10,
   "id": "1949a97e-f298-480c-8733-79654525a25c",
   "metadata": {},
   "outputs": [],
   "source": [
    "def markdown_table_to_dataframe(markdown_text, shift_row = 0):\n",
    "    \"\"\"\n",
    "    Convert a Markdown-formatted table into a pandas DataFrame.\n",
    "    \"\"\"\n",
    "    \n",
    "    # Split the markdown text into lines\n",
    "    lines = markdown_text.strip().split('\\n')\n",
    "\n",
    "    # Filter out lines that are part of the table\n",
    "    table_lines = [line for line in lines if line.startswith('|')]\n",
    "\n",
    "    # Remove the markdown table syntax\n",
    "    cleaned_lines = [line.strip('|').strip() for line in table_lines]\n",
    "\n",
    "    # Split each line into columns\n",
    "    data = [line.split('|') for line in cleaned_lines]\n",
    "\n",
    "    # Extract headers and rows\n",
    "    headers = [header.strip() for header in data[1+shift_row] if header.strip()]\n",
    "    rows = [[cell.strip() for cell in row if cell.strip()] for row in data[3:]]\n",
    "\n",
    "    # Ensure each row has the same number of columns as the headers\n",
    "    for row in rows:\n",
    "        if len(row) < len(headers):\n",
    "            row += [''] * (len(headers) - len(row))\n",
    "\n",
    "    # Create a DataFrame\n",
    "    df = pd.DataFrame(rows, columns=headers)\n",
    "    return df\n"
   ]
  },
  {
   "cell_type": "code",
   "execution_count": 11,
   "id": "ec1e2e3b-a7cc-4cbb-b3e2-987a63e9ae6b",
   "metadata": {},
   "outputs": [],
   "source": [
    "def split_strings_to_df(strings):\n",
    "    \"\"\"\n",
    "    Convert a list of strings in the format `\"text ..... number\"` into a DataFrame.\n",
    "\n",
    "    Each string is expected to contain a text label followed by dots and a numeric value.\n",
    "    The numeric value is cleaned (spaces and dots removed) and converted to either\n",
    "    `int` or `float`. If no numeric value is found, `None` is used instead.\n",
    "\n",
    "    Parameters\n",
    "    ----------\n",
    "    strings : list of str\n",
    "        A list of strings to be parsed.  \n",
    "        Example: [\"Technical provisions ..... 2.337.991\", \"Best Estimate ..... 0\"]\n",
    "\n",
    "    Returns\n",
    "    -------\n",
    "    pd.DataFrame\n",
    "        A DataFrame with two columns:\n",
    "        - \"NAME\": str, the extracted text (trimmed of dots and whitespace).\n",
    "        - \"C0010\": int, float, or None, the extracted numeric value.\n",
    "\n",
    "    Notes\n",
    "    -----\n",
    "    - Numbers with thousand separators like `\"2.337.991\"` are cleaned into integers (`2337991`).\n",
    "    - If the number cannot be parsed, it remains as a string.\n",
    "    - Strings without a numeric value will have `None` in the `\"C0010\"` column.\n",
    "    \"\"\"\n",
    "\n",
    "    data = []\n",
    "    for s in strings:\n",
    "        # Try to match \"text ..... number\"\n",
    "        match = re.match(r'^(.*?)\\.{2,}\\s*([\\d\\s\\.]+)$', s.strip())\n",
    "        if match:\n",
    "            left = match.group(1).strip()\n",
    "            # Clean up number (remove spaces in middle, convert to float/int)\n",
    "            right = match.group(2).replace(\" \", \"\").replace(\".\", \"\")\n",
    "            if right.isdigit():\n",
    "                right = int(right)\n",
    "            else:\n",
    "                try:\n",
    "                    right = float(right)\n",
    "                except:\n",
    "                    pass\n",
    "            data.append((left, right))\n",
    "        else:\n",
    "            # No number found, just keep text\n",
    "            data.append((s.strip(), None))\n",
    "\n",
    "    df = pd.DataFrame(data, columns=[\"NAME\", \"C0010\"])\n",
    "    return df"
   ]
  },
  {
   "cell_type": "code",
   "execution_count": 12,
   "id": "24b03f87-8884-4914-be0d-1cbb4fa36cd0",
   "metadata": {},
   "outputs": [],
   "source": [
    "def run_mistral_ocr(output_pdf_path: str, api_key: str)-> str:\n",
    "    \"\"\"\n",
    "    Run OCR on a PDF file using the Mistral OCR API and return the extracted text in Markdown format.\n",
    "\n",
    "    The function:\n",
    "    1. Encodes the PDF as a base64 string.\n",
    "    2. Sends it to the Mistral OCR API.\n",
    "    3. Extracts the recognized text in Markdown format from the response.\n",
    "    \"\"\"\n",
    "    \n",
    "    # Getting the base64 string\n",
    "    base64_pdf = encode_pdf(Path(output_pdf_path))\n",
    "    \n",
    "    client = Mistral(api_key=api_key)\n",
    "    \n",
    "    ocr_response = client.ocr.process(\n",
    "        model=\"mistral-ocr-latest\",\n",
    "        document={\n",
    "            \"type\": \"document_url\",\n",
    "            \"document_url\": f\"data:application/pdf;base64,{base64_pdf}\" \n",
    "        },\n",
    "        include_image_base64=True\n",
    "    )\n",
    "    \n",
    "    # Assuming ocr_response is your instance of OCRResponse\n",
    "    markdown_texts = [page.markdown for page in ocr_response.pages]\n",
    "    \n",
    "    # If you want to concatenate all markdown texts from all pages\n",
    "    full_markdown_text = \"\\n\".join(markdown_texts)\n",
    "    \n",
    "    # Assuming ocr_response is your OCRResponse object\n",
    "    markdown_text = ocr_response.pages[0].markdown\n",
    "    return markdown_text\n",
    "    "
   ]
  },
  {
   "cell_type": "code",
   "execution_count": 13,
   "id": "5c19717b-bb6c-4009-84af-a49979e7eff1",
   "metadata": {},
   "outputs": [],
   "source": [
    "def parse_table_to_df(text: str, value_column_name:str) -> pd.DataFrame:\n",
    "    \"\"\"\n",
    "    Parse a long text table into a DataFrame with columns:\n",
    "    ['code', 'name', 'value'].\n",
    "    \"\"\"\n",
    "    # Split text into lines\n",
    "    lines = text.splitlines()\n",
    "    \n",
    "    rows = []\n",
    "    buffer = []\n",
    "    for line in lines:\n",
    "        # Match lines with pattern: code (Rxxxx) followed by number\n",
    "        match = re.match(r\"^(R\\d{4})\\s*(.*)$\", line)\n",
    "        if match:\n",
    "            code = match.group(1)\n",
    "            rest = match.group(2).strip()\n",
    "            \n",
    "            # Check if 'rest' is a number (the value)\n",
    "            if re.match(r\"^[\\d\\.,]+$\", rest):\n",
    "                name = \" \".join(buffer).strip()\n",
    "                value = rest\n",
    "                rows.append((code, name, value))\n",
    "                buffer = []  # reset for next name\n",
    "            else:\n",
    "                # It's not just a number, so treat it as name continuation\n",
    "                buffer.append(line)\n",
    "        else:\n",
    "            # If line is just a number after a code line\n",
    "            if re.match(r\"^[\\d\\.,]+$\", line.strip()):\n",
    "                name = \" \".join(buffer).strip()\n",
    "                value = line.strip()\n",
    "                # Last buffer entry should contain the code\n",
    "                code_match = re.search(r\"(R\\d{4})\", buffer[-1]) if buffer else None\n",
    "                code = code_match.group(1) if code_match else None\n",
    "                # Remove code from name\n",
    "                buffer[-1] = buffer[-1].replace(code, \"\").strip() if code else buffer[-1]\n",
    "                rows.append((code, \" \".join(buffer).strip(), value))\n",
    "                buffer = []  # reset\n",
    "            else:\n",
    "                # Accumulate description\n",
    "                buffer.append(line)\n",
    "    \n",
    "    # Build DataFrame\n",
    "    df = pd.DataFrame(rows, columns=[\"CODE\", \"NAME\", value_column_name])\n",
    "    \n",
    "    # Convert numeric values to float\n",
    "    df[value_column_name] = df[value_column_name].str.replace(\".\", \"\", regex=False).str.replace(\",\", \".\", regex=False)\n",
    "    df[value_column_name] = pd.to_numeric(df[value_column_name], errors=\"coerce\")\n",
    "    \n",
    "    return df"
   ]
  },
  {
   "cell_type": "code",
   "execution_count": 14,
   "id": "4f38ce86-8e00-4287-a3c1-8dc73535968f",
   "metadata": {},
   "outputs": [],
   "source": [
    "def extract_paths(master_list: pd.DataFrame, unique_id: str):\n",
    "    \"\"\"\n",
    "    Extract file paths and page number from master_list for a given unique_id.\n",
    "    \n",
    "    Parameters:\n",
    "        master_list (pd.DataFrame): DataFrame containing metadata.\n",
    "        unique_id: Index or identifier in the DataFrame.\n",
    "    \n",
    "    Returns:\n",
    "        dict: Dictionary with keys 'pdf_path', 'page_number', \n",
    "              'output_pdf_path', 'output_final_path', 'codes_path'.\n",
    "    \"\"\"\n",
    "    return master_list.loc[unique_id, \"document_name\"], int(master_list.loc[unique_id, \"page_number\"]), master_list.loc[unique_id, \"output_pdf_path\"], master_list.loc[unique_id, \"output_final_path\"], master_list.loc[unique_id, \"codes_path\"]"
   ]
  },
  {
   "cell_type": "code",
   "execution_count": 15,
   "id": "d62a9eec-b63c-4e34-9232-8bad1a4d59ea",
   "metadata": {},
   "outputs": [],
   "source": [
    "def convert_to_dataframe(text: str) -> pd.DataFrame:\n",
    "    \"\"\"\n",
    "    Convert raw AnnexI/Solvency II balance sheet text into a structured DataFrame.\n",
    "\n",
    "    Parameters\n",
    "    ----------\n",
    "    text : str\n",
    "        Raw text containing balance sheet items.\n",
    "\n",
    "    Returns\n",
    "    -------\n",
    "    pd.DataFrame\n",
    "        DataFrame with columns: CODE, NAME, VALUE\n",
    "    \"\"\"\n",
    "    rows = []\n",
    "    \n",
    "    # Split text into lines\n",
    "    for line in text.splitlines():\n",
    "        # Match rows with a code like R001 and a value at the end\n",
    "        match = re.match(r\"^(.*)\\s+(R\\d+)\\s+([-]?\\d[\\d\\.\\,]*)$\", line.strip())\n",
    "        if match:\n",
    "            name = match.group(1).strip()\n",
    "            code = match.group(2).strip()\n",
    "            value_str = match.group(3).replace(\".\", \"\")  # remove thousand separators\n",
    "            value = float(value_str.replace(\",\", \".\"))   # convert to float\n",
    "            rows.append((code, name, value))\n",
    "    \n",
    "    df = pd.DataFrame(rows, columns=[\"CODE\", \"NAME\", \"VALUE\"])\n",
    "    return df"
   ]
  },
  {
   "cell_type": "code",
   "execution_count": 16,
   "id": "76a943fc-0648-4362-a778-622ccac46f93",
   "metadata": {},
   "outputs": [],
   "source": [
    "def append_zero_if_len4(df: pd.DataFrame, col: str = \"CODE\") -> pd.DataFrame:\n",
    "    \"\"\"\n",
    "    Append '0' to the code if its length is 4 characters.\n",
    "    \n",
    "    Parameters\n",
    "    ----------\n",
    "    df : pd.DataFrame\n",
    "        Input dataframe containing the code column.\n",
    "    col : str\n",
    "        Column name for codes (default = 'CODE').\n",
    "\n",
    "    Returns\n",
    "    -------\n",
    "    pd.DataFrame\n",
    "        DataFrame with modified codes.\n",
    "    \"\"\"\n",
    "    df = df.copy()\n",
    "    df[col] = df[col].apply(lambda x: x + \"0\" if len(x) == 4 else x)\n",
    "    return df"
   ]
  },
  {
   "cell_type": "code",
   "execution_count": 17,
   "id": "4da8a9b9-5548-4919-9dfb-08126bd8499c",
   "metadata": {},
   "outputs": [],
   "source": [
    "def run_ocr_and_convert_to_df(path: str, api_key: str)-> pd.DataFrame:\n",
    "    \"\"\"\n",
    "    Run OCR on a PDF file and convert the extracted Markdown table into a DataFrame.\n",
    "    \"\"\"\n",
    "    \n",
    "    markdown_text = run_mistral_ocr(path, api_key)\n",
    "    table = markdown_table_to_dataframe(markdown_text)\n",
    "    return table"
   ]
  },
  {
   "cell_type": "code",
   "execution_count": 18,
   "id": "78f5c36b-f298-4de5-b853-4fcc1095c255",
   "metadata": {},
   "outputs": [],
   "source": [
    "def ocr_to_dataframe(ocr_text: str) -> pd.DataFrame:\n",
    "    \"\"\"\n",
    "    Converts OCR extracted financial text into a structured DataFrame.\n",
    "    \n",
    "    Extracts description, code (Rxxxx, Cxxxx), and numeric value if present.\n",
    "    \"\"\"\n",
    "    rows = []\n",
    "    \n",
    "    # Split text into lines\n",
    "    for line in ocr_text.splitlines():\n",
    "        # Look for patterns like \"..... R0030 ..... 123.456\"\n",
    "        match = re.match(r\"^(.*?)\\.{2,}\\s*(R\\d{4}|C\\d{4})(?:\\s*\\.{2,}\\s*([\\d\\.\\s-]+))?$\", line.strip())\n",
    "        if match:\n",
    "            desc = match.group(1).strip()\n",
    "            code = match.group(2).strip()\n",
    "            raw_value = match.group(3)\n",
    "            \n",
    "            if raw_value:\n",
    "                # Remove spaces inside numbers (e.g. \"4.275 .590\" -> \"4.275.590\")\n",
    "                cleaned = raw_value.replace(\" \", \"\")\n",
    "                # Convert to float if numeric, else keep as string\n",
    "                try:\n",
    "                    value = float(cleaned.replace(\".\", \"\").replace(\",\", \".\"))\n",
    "                except ValueError:\n",
    "                    value = cleaned\n",
    "            else:\n",
    "                value = None\n",
    "            \n",
    "            rows.append((code, desc, value))\n",
    "    \n",
    "    df = pd.DataFrame(rows, columns=[\"CODE\", \"DESCRIPTION\", \"VALUE\"])\n",
    "    return df"
   ]
  },
  {
   "cell_type": "markdown",
   "id": "06139d79-f60d-410e-bfbe-07bf4286ef5e",
   "metadata": {},
   "source": [
    "## The list of companies\n",
    "\n"
   ]
  },
  {
   "cell_type": "code",
   "execution_count": 19,
   "id": "f9a28e99-b23a-4843-b226-e57fba3c8d58",
   "metadata": {},
   "outputs": [],
   "source": [
    "master_list = pd.read_csv(\"master_list.csv\", header=0, index_col=0)"
   ]
  },
  {
   "cell_type": "code",
   "execution_count": 20,
   "id": "3bfe4e59-a397-4db0-bc3e-65d167052eb9",
   "metadata": {},
   "outputs": [
    {
     "data": {
      "text/html": [
       "<div>\n",
       "<style scoped>\n",
       "    .dataframe tbody tr th:only-of-type {\n",
       "        vertical-align: middle;\n",
       "    }\n",
       "\n",
       "    .dataframe tbody tr th {\n",
       "        vertical-align: top;\n",
       "    }\n",
       "\n",
       "    .dataframe thead th {\n",
       "        text-align: right;\n",
       "    }\n",
       "</style>\n",
       "<table border=\"1\" class=\"dataframe\">\n",
       "  <thead>\n",
       "    <tr style=\"text-align: right;\">\n",
       "      <th></th>\n",
       "      <th>company</th>\n",
       "      <th>document_name</th>\n",
       "      <th>table_name</th>\n",
       "      <th>page_number</th>\n",
       "      <th>output_pdf_path</th>\n",
       "      <th>output_final_path</th>\n",
       "      <th>codes_path</th>\n",
       "      <th>leto</th>\n",
       "    </tr>\n",
       "    <tr>\n",
       "      <th>id</th>\n",
       "      <th></th>\n",
       "      <th></th>\n",
       "      <th></th>\n",
       "      <th></th>\n",
       "      <th></th>\n",
       "      <th></th>\n",
       "      <th></th>\n",
       "      <th></th>\n",
       "    </tr>\n",
       "  </thead>\n",
       "  <tbody>\n",
       "    <tr>\n",
       "      <th>CREDEM_VITA_02_1</th>\n",
       "      <td>CREDEM</td>\n",
       "      <td>Input\\SFCR 2024 CREDEMVITA.pdf</td>\n",
       "      <td>S.02.01.02_A</td>\n",
       "      <td>197</td>\n",
       "      <td>Single_pdf/CREDEM_S02_01_02_1_2024.pdf</td>\n",
       "      <td>Output/CREDEM_S02_01_02_1_2024.csv</td>\n",
       "      <td>NaN</td>\n",
       "      <td>2024</td>\n",
       "    </tr>\n",
       "    <tr>\n",
       "      <th>CREDEM_VITA_02_2</th>\n",
       "      <td>CREDEM</td>\n",
       "      <td>Input\\SFCR 2024 CREDEMVITA.pdf</td>\n",
       "      <td>S.02.01.02_L</td>\n",
       "      <td>198</td>\n",
       "      <td>Single_pdf/CREDEM_S02_01_02_2_2024.pdf</td>\n",
       "      <td>Output/CREDEM_S02_01_02_2_2024.csv</td>\n",
       "      <td>NaN</td>\n",
       "      <td>2024</td>\n",
       "    </tr>\n",
       "    <tr>\n",
       "      <th>AXA_VITA_02_01</th>\n",
       "      <td>AXA</td>\n",
       "      <td>Input\\2024.12 QRT SFCR AXA MPS Assicurazioni V...</td>\n",
       "      <td>S.02.01.02_A</td>\n",
       "      <td>1</td>\n",
       "      <td>Single_pdf/AXA_S02_01_02_1_2024.pdf</td>\n",
       "      <td>Output/AXA_S02_01_02_1_2024.csv</td>\n",
       "      <td>NaN</td>\n",
       "      <td>2024</td>\n",
       "    </tr>\n",
       "    <tr>\n",
       "      <th>CREDAG_VITA_02_01</th>\n",
       "      <td>CREDIT_AGRICOLE</td>\n",
       "      <td>Input\\ca_vita_sfcr_2024.pdf</td>\n",
       "      <td>S.02.01.02_A</td>\n",
       "      <td>61</td>\n",
       "      <td>Single_pdf/CA_S02_01_02_1_2024.pdf</td>\n",
       "      <td>Output/CA_S02_01_02_1_2024.csv</td>\n",
       "      <td>NaN</td>\n",
       "      <td>2024</td>\n",
       "    </tr>\n",
       "    <tr>\n",
       "      <th>CREDAG_VITA_02_02</th>\n",
       "      <td>CREDIT_AGRICOLE</td>\n",
       "      <td>Input\\ca_vita_sfcr_2024.pdf</td>\n",
       "      <td>S.02.01.02_L</td>\n",
       "      <td>62</td>\n",
       "      <td>Single_pdf/CA_S02_01_02_2_2024.pdf</td>\n",
       "      <td>Output/CA_S02_01_02_2_2024.csv</td>\n",
       "      <td>NaN</td>\n",
       "      <td>2024</td>\n",
       "    </tr>\n",
       "    <tr>\n",
       "      <th>REALE_02_01</th>\n",
       "      <td>REALE_MUTUA</td>\n",
       "      <td>Input\\SFCR_A123S_20241231.pdf</td>\n",
       "      <td>S.02.01.02_A</td>\n",
       "      <td>158</td>\n",
       "      <td>Single_pdf/RM_S02_01_02_1_2024.pdf</td>\n",
       "      <td>Output/RM_S02_01_02_1_2024.csv</td>\n",
       "      <td>NaN</td>\n",
       "      <td>2024</td>\n",
       "    </tr>\n",
       "    <tr>\n",
       "      <th>REALE_02_02</th>\n",
       "      <td>REALE_MUTUA</td>\n",
       "      <td>Input\\SFCR_A123S_20241231.pdf</td>\n",
       "      <td>S.02.01.02_L</td>\n",
       "      <td>159</td>\n",
       "      <td>Single_pdf/RM_S02_01_02_2_2024.pdf</td>\n",
       "      <td>Output/RM_S02_01_02_2_2024.csv</td>\n",
       "      <td>NaN</td>\n",
       "      <td>2024</td>\n",
       "    </tr>\n",
       "    <tr>\n",
       "      <th>CARDIF_02_01</th>\n",
       "      <td>CARDIF</td>\n",
       "      <td>Input\\SFCR_A421S_20241231.pdf</td>\n",
       "      <td>S.02.01.02_A</td>\n",
       "      <td>106</td>\n",
       "      <td>Single_pdf/CARDIF_S02_01_02_1_2024.pdf</td>\n",
       "      <td>Output/CARDIF_S02_01_02_1_2024.csv</td>\n",
       "      <td>NaN</td>\n",
       "      <td>2024</td>\n",
       "    </tr>\n",
       "    <tr>\n",
       "      <th>MEDIO_02_01</th>\n",
       "      <td>MEDIOLANUM</td>\n",
       "      <td>Input\\Mediolanum_Vita_Relazione_Unica_2024.pdf</td>\n",
       "      <td>S.02.01.02_A</td>\n",
       "      <td>164</td>\n",
       "      <td>Single_pdf/MEDIO_S02_01_02_1_2024.pdf</td>\n",
       "      <td>Output/MEDIO_S02_01_02_1_2024.csv</td>\n",
       "      <td>NaN</td>\n",
       "      <td>2024</td>\n",
       "    </tr>\n",
       "    <tr>\n",
       "      <th>MEDIO_02_02</th>\n",
       "      <td>MEDIOLANUM</td>\n",
       "      <td>Input\\Mediolanum_Vita_Relazione_Unica_2024.pdf</td>\n",
       "      <td>S.02.01.02_L</td>\n",
       "      <td>165</td>\n",
       "      <td>Single_pdf/MEDIO_S02_01_02_2_2024.pdf</td>\n",
       "      <td>Output/MEDIO_S02_01_02_2_2024.csv</td>\n",
       "      <td>NaN</td>\n",
       "      <td>2024</td>\n",
       "    </tr>\n",
       "    <tr>\n",
       "      <th>GEN_ITA_02_01</th>\n",
       "      <td>GENERALI ITALIA</td>\n",
       "      <td>Input\\2024 Relazione sulla Solvibilita e Condi...</td>\n",
       "      <td>S.02.01.02_A</td>\n",
       "      <td>144</td>\n",
       "      <td>Single_pdf/GEN_ITA_S02_01_02_1_2024.pdf</td>\n",
       "      <td>Output/GEN_ITA_S02_01_02_1_2024.csv</td>\n",
       "      <td>NaN</td>\n",
       "      <td>2024</td>\n",
       "    </tr>\n",
       "    <tr>\n",
       "      <th>GEN_ITA_02_02</th>\n",
       "      <td>GENERALI ITALIA</td>\n",
       "      <td>Input\\2024 Relazione sulla Solvibilita e Condi...</td>\n",
       "      <td>S.02.01.02_L</td>\n",
       "      <td>145</td>\n",
       "      <td>Single_pdf/GEN_ITA_S02_01_02_2_2024.pdf</td>\n",
       "      <td>Output/GEN_ITA_S02_01_02_2_2024.csv</td>\n",
       "      <td>NaN</td>\n",
       "      <td>2024</td>\n",
       "    </tr>\n",
       "    <tr>\n",
       "      <th>BMP_VITA_02_01</th>\n",
       "      <td>BMP VITA</td>\n",
       "      <td>Input\\Fascicolo-SFCR_2024_BBPMV-signed_con-opi...</td>\n",
       "      <td>S.02.01.02_A</td>\n",
       "      <td>80</td>\n",
       "      <td>Single_pdf/BMP_VITA_S02_01_02_1_2024.pdf</td>\n",
       "      <td>Output/BMP_VITA_S02_01_02_1_2024.csv</td>\n",
       "      <td>NaN</td>\n",
       "      <td>2024</td>\n",
       "    </tr>\n",
       "    <tr>\n",
       "      <th>BMP_VITA_02_02</th>\n",
       "      <td>BMP VITA</td>\n",
       "      <td>Input\\Fascicolo-SFCR_2024_BBPMV-signed_con-opi...</td>\n",
       "      <td>S.02.01.02_L</td>\n",
       "      <td>81</td>\n",
       "      <td>Single_pdf/BMP_VITA_S02_01_02_2_2024.pdf</td>\n",
       "      <td>Output/BMP_VITA_S02_01_02_2_2024.csv</td>\n",
       "      <td>NaN</td>\n",
       "      <td>2024</td>\n",
       "    </tr>\n",
       "    <tr>\n",
       "      <th>HDI_01</th>\n",
       "      <td>HDI</td>\n",
       "      <td>Input\\HDI Assicurazioni S.p.A. - Avviso pubbli...</td>\n",
       "      <td>S.02.01.02_A</td>\n",
       "      <td>104</td>\n",
       "      <td>Single_pdf/HDI_S02_01_02_1_2024.pdf</td>\n",
       "      <td>Output/HDI_S02_01_02_1_2024.csv</td>\n",
       "      <td>NaN</td>\n",
       "      <td>2024</td>\n",
       "    </tr>\n",
       "    <tr>\n",
       "      <th>HDI_02</th>\n",
       "      <td>HDI</td>\n",
       "      <td>Input\\HDI Assicurazioni S.p.A. - Avviso pubbli...</td>\n",
       "      <td>S.02.01.02_L</td>\n",
       "      <td>105</td>\n",
       "      <td>Single_pdf/HDI_S02_01_02_2_2024.pdf</td>\n",
       "      <td>Output/HDI_S02_01_02_2_2024.csv</td>\n",
       "      <td>NaN</td>\n",
       "      <td>2024</td>\n",
       "    </tr>\n",
       "    <tr>\n",
       "      <th>POSTE_VITA_01</th>\n",
       "      <td>POSTE_VITA</td>\n",
       "      <td>Input\\relazioneunicasolvibilita_condizionefina...</td>\n",
       "      <td>S.02.01.02_A</td>\n",
       "      <td>136</td>\n",
       "      <td>Single_pdf/POSTE_VITA_S02_01_02_1_2024.pdf</td>\n",
       "      <td>Output/POSTE_VITA_S02_01_02_1_2024.csv</td>\n",
       "      <td>NaN</td>\n",
       "      <td>2024</td>\n",
       "    </tr>\n",
       "    <tr>\n",
       "      <th>POSTE_VITA_02</th>\n",
       "      <td>POSTE_VITA</td>\n",
       "      <td>Input\\relazioneunicasolvibilita_condizionefina...</td>\n",
       "      <td>S.02.01.02_L</td>\n",
       "      <td>137</td>\n",
       "      <td>Single_pdf/POSTE_VITA_S02_01_02_2_2024.pdf</td>\n",
       "      <td>Output/POSTE_VITA_S02_01_02_2_2024.csv</td>\n",
       "      <td>NaN</td>\n",
       "      <td>2024</td>\n",
       "    </tr>\n",
       "    <tr>\n",
       "      <th>INTESA_VITA_01</th>\n",
       "      <td>INTESA_VITA</td>\n",
       "      <td>Input\\SFCR Gruppo ISPA 2024_ENG.pdf</td>\n",
       "      <td>S.02.01.02_A</td>\n",
       "      <td>250</td>\n",
       "      <td>Single_pdf/INTESA_VITA_S02_01_02_1_2024.pdf</td>\n",
       "      <td>Output/INTESA_VITA_S02_01_02_1_2024.csv</td>\n",
       "      <td>NaN</td>\n",
       "      <td>2024</td>\n",
       "    </tr>\n",
       "    <tr>\n",
       "      <th>INTESA_VITA_02</th>\n",
       "      <td>INTESA_VITA</td>\n",
       "      <td>Input\\SFCR Gruppo ISPA 2024_ENG.pdf</td>\n",
       "      <td>S.02.01.02_L</td>\n",
       "      <td>251</td>\n",
       "      <td>Single_pdf/INTESA_VITA_S02_01_02_2_2024.pdf</td>\n",
       "      <td>Output/INTESA_VITA_S02_01_02_2_2024.csv</td>\n",
       "      <td>NaN</td>\n",
       "      <td>2024</td>\n",
       "    </tr>\n",
       "    <tr>\n",
       "      <th>CNP_VITA_01</th>\n",
       "      <td>CNP_VITA</td>\n",
       "      <td>Input\\SFCR_2024_CNP_Vita_Assicura_con_Relazion...</td>\n",
       "      <td>S.02.01.02_A</td>\n",
       "      <td>116</td>\n",
       "      <td>Single_pdf/CNP_VITA_S02_01_02_1_2024.pdf</td>\n",
       "      <td>Output/CNP_VITA_S02_01_02_1_2024.csv</td>\n",
       "      <td>NaN</td>\n",
       "      <td>2024</td>\n",
       "    </tr>\n",
       "    <tr>\n",
       "      <th>CNP_VITA_02</th>\n",
       "      <td>CNP_VITA</td>\n",
       "      <td>Input\\SFCR_2024_CNP_Vita_Assicura_con_Relazion...</td>\n",
       "      <td>S.02.01.02_L</td>\n",
       "      <td>117</td>\n",
       "      <td>Single_pdf/CNP_VITA_S02_01_02_2_2024.pdf</td>\n",
       "      <td>Output/CNP_VITA_S02_01_02_2_2024.csv</td>\n",
       "      <td>NaN</td>\n",
       "      <td>2024</td>\n",
       "    </tr>\n",
       "    <tr>\n",
       "      <th>ITAS_VITA_01</th>\n",
       "      <td>ITAS_VITA</td>\n",
       "      <td>Input\\SFCR_G0010_20241231.pdf</td>\n",
       "      <td>S.02.01.02_A</td>\n",
       "      <td>233</td>\n",
       "      <td>Single_pdf/ITAS_VITA_S02_01_02_1_2024.pdf</td>\n",
       "      <td>Output/ITAS_VITA_S02_01_02_1_2024.csv</td>\n",
       "      <td>NaN</td>\n",
       "      <td>2024</td>\n",
       "    </tr>\n",
       "    <tr>\n",
       "      <th>ITAS_VITA_02</th>\n",
       "      <td>ITAS_VITA</td>\n",
       "      <td>Input\\SFCR_G0010_20241231.pdf</td>\n",
       "      <td>S.02.01.02_L</td>\n",
       "      <td>234</td>\n",
       "      <td>Single_pdf/ITAS_VITA_S02_01_02_2_2024.pdf</td>\n",
       "      <td>Output/ITAS_VITA_S02_01_02_2_2024.csv</td>\n",
       "      <td>NaN</td>\n",
       "      <td>2024</td>\n",
       "    </tr>\n",
       "    <tr>\n",
       "      <th>HELVETIA_VITA_01</th>\n",
       "      <td>HELVETIA_VITA</td>\n",
       "      <td>Input\\SFCR_Annex_Helvetia Vita_2024.pdf</td>\n",
       "      <td>S.02.01.02_A</td>\n",
       "      <td>2</td>\n",
       "      <td>Single_pdf/HELVETIA_VITA_S02_01_02_1_2024.pdf</td>\n",
       "      <td>Output/HELVETIA_VITA_S02_01_02_1_2024.csv</td>\n",
       "      <td>NaN</td>\n",
       "      <td>2024</td>\n",
       "    </tr>\n",
       "    <tr>\n",
       "      <th>HELVETIA_VITA_02</th>\n",
       "      <td>HELVETIA_VITA</td>\n",
       "      <td>Input\\SFCR_Annex_Helvetia Vita_2024.pdf</td>\n",
       "      <td>S.02.01.02_L</td>\n",
       "      <td>3</td>\n",
       "      <td>Single_pdf/HELVETIA_VITA_S02_01_02_2_2024.pdf</td>\n",
       "      <td>Output/HELVETIA_VITA_S02_01_02_2_2024.csv</td>\n",
       "      <td>NaN</td>\n",
       "      <td>2024</td>\n",
       "    </tr>\n",
       "    <tr>\n",
       "      <th>VITTORIA_01</th>\n",
       "      <td>VITTORIA</td>\n",
       "      <td>Input\\SFCR-2024_Vittoria.pdf</td>\n",
       "      <td>S.02.01.02_A</td>\n",
       "      <td>93</td>\n",
       "      <td>Single_pdf/VITTORIA_S02_01_02_1_2024.pdf</td>\n",
       "      <td>Output/VITTORIA_S02_01_02_1_2024.csv</td>\n",
       "      <td>NaN</td>\n",
       "      <td>2024</td>\n",
       "    </tr>\n",
       "    <tr>\n",
       "      <th>VITTORIA_02</th>\n",
       "      <td>VITTORIA</td>\n",
       "      <td>Input\\SFCR-2024_Vittoria.pdf</td>\n",
       "      <td>S.02.01.02_L</td>\n",
       "      <td>94</td>\n",
       "      <td>Single_pdf/VITTORIA_S02_01_02_2_2024.pdf</td>\n",
       "      <td>Output/VITTORIA_S02_01_02_2_2024.csv</td>\n",
       "      <td>NaN</td>\n",
       "      <td>2024</td>\n",
       "    </tr>\n",
       "    <tr>\n",
       "      <th>GROUPAMA_01</th>\n",
       "      <td>GROUPAMA</td>\n",
       "      <td>Input\\SFCR-2024-Relazione-solvibilita-condizio...</td>\n",
       "      <td>S.02.01.02_A</td>\n",
       "      <td>71</td>\n",
       "      <td>Single_pdf/GROUPAMA_S02_01_02_1_2024.pdf</td>\n",
       "      <td>Output/GROUPAMA_S02_01_02_1_2024.csv</td>\n",
       "      <td>NaN</td>\n",
       "      <td>2024</td>\n",
       "    </tr>\n",
       "    <tr>\n",
       "      <th>ALLIANZ_UNICREDIT_01</th>\n",
       "      <td>ALLIANZ_UNICREDIT</td>\n",
       "      <td>Input\\UAV_Fascicolo_SFCR_2024_con_relazioni_Pw...</td>\n",
       "      <td>S.02.01.02_A</td>\n",
       "      <td>110</td>\n",
       "      <td>Single_pdf/ALLIANZ_UNICREDIT_S02_01_02_1_2024.pdf</td>\n",
       "      <td>Output/ALLIANZ_UNICREDIT_S02_01_02_1_2024.csv</td>\n",
       "      <td>NaN</td>\n",
       "      <td>2024</td>\n",
       "    </tr>\n",
       "    <tr>\n",
       "      <th>ALLIANZ_UNICREDIT_02</th>\n",
       "      <td>ALLIANZ_UNICREDIT</td>\n",
       "      <td>Input\\UAV_Fascicolo_SFCR_2024_con_relazioni_Pw...</td>\n",
       "      <td>S.02.01.02_L</td>\n",
       "      <td>111</td>\n",
       "      <td>Single_pdf/ALLIANZ_UNICREDIT_S02_01_02_2_2024.pdf</td>\n",
       "      <td>Output/ALLIANZ_UNICREDIT_S02_01_02_2_2024.csv</td>\n",
       "      <td>NaN</td>\n",
       "      <td>2024</td>\n",
       "    </tr>\n",
       "    <tr>\n",
       "      <th>ZURICH_LIFE_01</th>\n",
       "      <td>ZURICH_LIFE</td>\n",
       "      <td>Input\\zil_scfr_2024_web.pdf</td>\n",
       "      <td>S.02.01.02_A</td>\n",
       "      <td>58</td>\n",
       "      <td>Single_pdf/ZURICH_LIFE_S02_01_02_1_2024.pdf</td>\n",
       "      <td>Output/ZURICH_LIFE_S02_01_02_1_2024.csv</td>\n",
       "      <td>NaN</td>\n",
       "      <td>2024</td>\n",
       "    </tr>\n",
       "    <tr>\n",
       "      <th>ZURICH_LIFE_02</th>\n",
       "      <td>ZURICH_LIFE</td>\n",
       "      <td>Input\\zil_scfr_2024_web.pdf</td>\n",
       "      <td>S.02.01.02_L</td>\n",
       "      <td>59</td>\n",
       "      <td>Single_pdf/ZURICH_LIFE_S02_01_02_2_2024.pdf</td>\n",
       "      <td>Output/ZURICH_LIFE_S02_01_02_2_2024.csv</td>\n",
       "      <td>NaN</td>\n",
       "      <td>2024</td>\n",
       "    </tr>\n",
       "  </tbody>\n",
       "</table>\n",
       "</div>"
      ],
      "text/plain": [
       "                                company  \\\n",
       "id                                        \n",
       "CREDEM_VITA_02_1                 CREDEM   \n",
       "CREDEM_VITA_02_2                 CREDEM   \n",
       "AXA_VITA_02_01                      AXA   \n",
       "CREDAG_VITA_02_01       CREDIT_AGRICOLE   \n",
       "CREDAG_VITA_02_02       CREDIT_AGRICOLE   \n",
       "REALE_02_01                 REALE_MUTUA   \n",
       "REALE_02_02                 REALE_MUTUA   \n",
       "CARDIF_02_01                     CARDIF   \n",
       "MEDIO_02_01                  MEDIOLANUM   \n",
       "MEDIO_02_02                  MEDIOLANUM   \n",
       "GEN_ITA_02_01           GENERALI ITALIA   \n",
       "GEN_ITA_02_02           GENERALI ITALIA   \n",
       "BMP_VITA_02_01                 BMP VITA   \n",
       "BMP_VITA_02_02                 BMP VITA   \n",
       "HDI_01                              HDI   \n",
       "HDI_02                              HDI   \n",
       "POSTE_VITA_01                POSTE_VITA   \n",
       "POSTE_VITA_02                POSTE_VITA   \n",
       "INTESA_VITA_01              INTESA_VITA   \n",
       "INTESA_VITA_02              INTESA_VITA   \n",
       "CNP_VITA_01                    CNP_VITA   \n",
       "CNP_VITA_02                    CNP_VITA   \n",
       "ITAS_VITA_01                  ITAS_VITA   \n",
       "ITAS_VITA_02                  ITAS_VITA   \n",
       "HELVETIA_VITA_01          HELVETIA_VITA   \n",
       "HELVETIA_VITA_02          HELVETIA_VITA   \n",
       "VITTORIA_01                    VITTORIA   \n",
       "VITTORIA_02                    VITTORIA   \n",
       "GROUPAMA_01                    GROUPAMA   \n",
       "ALLIANZ_UNICREDIT_01  ALLIANZ_UNICREDIT   \n",
       "ALLIANZ_UNICREDIT_02  ALLIANZ_UNICREDIT   \n",
       "ZURICH_LIFE_01              ZURICH_LIFE   \n",
       "ZURICH_LIFE_02              ZURICH_LIFE   \n",
       "\n",
       "                                                          document_name  \\\n",
       "id                                                                        \n",
       "CREDEM_VITA_02_1                         Input\\SFCR 2024 CREDEMVITA.pdf   \n",
       "CREDEM_VITA_02_2                         Input\\SFCR 2024 CREDEMVITA.pdf   \n",
       "AXA_VITA_02_01        Input\\2024.12 QRT SFCR AXA MPS Assicurazioni V...   \n",
       "CREDAG_VITA_02_01                           Input\\ca_vita_sfcr_2024.pdf   \n",
       "CREDAG_VITA_02_02                           Input\\ca_vita_sfcr_2024.pdf   \n",
       "REALE_02_01                               Input\\SFCR_A123S_20241231.pdf   \n",
       "REALE_02_02                               Input\\SFCR_A123S_20241231.pdf   \n",
       "CARDIF_02_01                              Input\\SFCR_A421S_20241231.pdf   \n",
       "MEDIO_02_01              Input\\Mediolanum_Vita_Relazione_Unica_2024.pdf   \n",
       "MEDIO_02_02              Input\\Mediolanum_Vita_Relazione_Unica_2024.pdf   \n",
       "GEN_ITA_02_01         Input\\2024 Relazione sulla Solvibilita e Condi...   \n",
       "GEN_ITA_02_02         Input\\2024 Relazione sulla Solvibilita e Condi...   \n",
       "BMP_VITA_02_01        Input\\Fascicolo-SFCR_2024_BBPMV-signed_con-opi...   \n",
       "BMP_VITA_02_02        Input\\Fascicolo-SFCR_2024_BBPMV-signed_con-opi...   \n",
       "HDI_01                Input\\HDI Assicurazioni S.p.A. - Avviso pubbli...   \n",
       "HDI_02                Input\\HDI Assicurazioni S.p.A. - Avviso pubbli...   \n",
       "POSTE_VITA_01         Input\\relazioneunicasolvibilita_condizionefina...   \n",
       "POSTE_VITA_02         Input\\relazioneunicasolvibilita_condizionefina...   \n",
       "INTESA_VITA_01                      Input\\SFCR Gruppo ISPA 2024_ENG.pdf   \n",
       "INTESA_VITA_02                      Input\\SFCR Gruppo ISPA 2024_ENG.pdf   \n",
       "CNP_VITA_01           Input\\SFCR_2024_CNP_Vita_Assicura_con_Relazion...   \n",
       "CNP_VITA_02           Input\\SFCR_2024_CNP_Vita_Assicura_con_Relazion...   \n",
       "ITAS_VITA_01                              Input\\SFCR_G0010_20241231.pdf   \n",
       "ITAS_VITA_02                              Input\\SFCR_G0010_20241231.pdf   \n",
       "HELVETIA_VITA_01                Input\\SFCR_Annex_Helvetia Vita_2024.pdf   \n",
       "HELVETIA_VITA_02                Input\\SFCR_Annex_Helvetia Vita_2024.pdf   \n",
       "VITTORIA_01                                Input\\SFCR-2024_Vittoria.pdf   \n",
       "VITTORIA_02                                Input\\SFCR-2024_Vittoria.pdf   \n",
       "GROUPAMA_01           Input\\SFCR-2024-Relazione-solvibilita-condizio...   \n",
       "ALLIANZ_UNICREDIT_01  Input\\UAV_Fascicolo_SFCR_2024_con_relazioni_Pw...   \n",
       "ALLIANZ_UNICREDIT_02  Input\\UAV_Fascicolo_SFCR_2024_con_relazioni_Pw...   \n",
       "ZURICH_LIFE_01                              Input\\zil_scfr_2024_web.pdf   \n",
       "ZURICH_LIFE_02                              Input\\zil_scfr_2024_web.pdf   \n",
       "\n",
       "                        table_name  page_number  \\\n",
       "id                                                \n",
       "CREDEM_VITA_02_1      S.02.01.02_A          197   \n",
       "CREDEM_VITA_02_2      S.02.01.02_L          198   \n",
       "AXA_VITA_02_01        S.02.01.02_A            1   \n",
       "CREDAG_VITA_02_01     S.02.01.02_A           61   \n",
       "CREDAG_VITA_02_02     S.02.01.02_L           62   \n",
       "REALE_02_01           S.02.01.02_A          158   \n",
       "REALE_02_02           S.02.01.02_L          159   \n",
       "CARDIF_02_01          S.02.01.02_A          106   \n",
       "MEDIO_02_01           S.02.01.02_A          164   \n",
       "MEDIO_02_02           S.02.01.02_L          165   \n",
       "GEN_ITA_02_01         S.02.01.02_A          144   \n",
       "GEN_ITA_02_02         S.02.01.02_L          145   \n",
       "BMP_VITA_02_01        S.02.01.02_A           80   \n",
       "BMP_VITA_02_02        S.02.01.02_L           81   \n",
       "HDI_01                S.02.01.02_A          104   \n",
       "HDI_02                S.02.01.02_L          105   \n",
       "POSTE_VITA_01         S.02.01.02_A          136   \n",
       "POSTE_VITA_02         S.02.01.02_L          137   \n",
       "INTESA_VITA_01        S.02.01.02_A          250   \n",
       "INTESA_VITA_02        S.02.01.02_L          251   \n",
       "CNP_VITA_01           S.02.01.02_A          116   \n",
       "CNP_VITA_02           S.02.01.02_L          117   \n",
       "ITAS_VITA_01          S.02.01.02_A          233   \n",
       "ITAS_VITA_02          S.02.01.02_L          234   \n",
       "HELVETIA_VITA_01      S.02.01.02_A            2   \n",
       "HELVETIA_VITA_02      S.02.01.02_L            3   \n",
       "VITTORIA_01           S.02.01.02_A           93   \n",
       "VITTORIA_02           S.02.01.02_L           94   \n",
       "GROUPAMA_01           S.02.01.02_A           71   \n",
       "ALLIANZ_UNICREDIT_01  S.02.01.02_A          110   \n",
       "ALLIANZ_UNICREDIT_02  S.02.01.02_L          111   \n",
       "ZURICH_LIFE_01        S.02.01.02_A           58   \n",
       "ZURICH_LIFE_02        S.02.01.02_L           59   \n",
       "\n",
       "                                                        output_pdf_path  \\\n",
       "id                                                                        \n",
       "CREDEM_VITA_02_1                 Single_pdf/CREDEM_S02_01_02_1_2024.pdf   \n",
       "CREDEM_VITA_02_2                 Single_pdf/CREDEM_S02_01_02_2_2024.pdf   \n",
       "AXA_VITA_02_01                      Single_pdf/AXA_S02_01_02_1_2024.pdf   \n",
       "CREDAG_VITA_02_01                    Single_pdf/CA_S02_01_02_1_2024.pdf   \n",
       "CREDAG_VITA_02_02                    Single_pdf/CA_S02_01_02_2_2024.pdf   \n",
       "REALE_02_01                          Single_pdf/RM_S02_01_02_1_2024.pdf   \n",
       "REALE_02_02                          Single_pdf/RM_S02_01_02_2_2024.pdf   \n",
       "CARDIF_02_01                     Single_pdf/CARDIF_S02_01_02_1_2024.pdf   \n",
       "MEDIO_02_01                       Single_pdf/MEDIO_S02_01_02_1_2024.pdf   \n",
       "MEDIO_02_02                       Single_pdf/MEDIO_S02_01_02_2_2024.pdf   \n",
       "GEN_ITA_02_01                   Single_pdf/GEN_ITA_S02_01_02_1_2024.pdf   \n",
       "GEN_ITA_02_02                   Single_pdf/GEN_ITA_S02_01_02_2_2024.pdf   \n",
       "BMP_VITA_02_01                 Single_pdf/BMP_VITA_S02_01_02_1_2024.pdf   \n",
       "BMP_VITA_02_02                 Single_pdf/BMP_VITA_S02_01_02_2_2024.pdf   \n",
       "HDI_01                              Single_pdf/HDI_S02_01_02_1_2024.pdf   \n",
       "HDI_02                              Single_pdf/HDI_S02_01_02_2_2024.pdf   \n",
       "POSTE_VITA_01                Single_pdf/POSTE_VITA_S02_01_02_1_2024.pdf   \n",
       "POSTE_VITA_02                Single_pdf/POSTE_VITA_S02_01_02_2_2024.pdf   \n",
       "INTESA_VITA_01              Single_pdf/INTESA_VITA_S02_01_02_1_2024.pdf   \n",
       "INTESA_VITA_02              Single_pdf/INTESA_VITA_S02_01_02_2_2024.pdf   \n",
       "CNP_VITA_01                    Single_pdf/CNP_VITA_S02_01_02_1_2024.pdf   \n",
       "CNP_VITA_02                    Single_pdf/CNP_VITA_S02_01_02_2_2024.pdf   \n",
       "ITAS_VITA_01                  Single_pdf/ITAS_VITA_S02_01_02_1_2024.pdf   \n",
       "ITAS_VITA_02                  Single_pdf/ITAS_VITA_S02_01_02_2_2024.pdf   \n",
       "HELVETIA_VITA_01          Single_pdf/HELVETIA_VITA_S02_01_02_1_2024.pdf   \n",
       "HELVETIA_VITA_02          Single_pdf/HELVETIA_VITA_S02_01_02_2_2024.pdf   \n",
       "VITTORIA_01                    Single_pdf/VITTORIA_S02_01_02_1_2024.pdf   \n",
       "VITTORIA_02                    Single_pdf/VITTORIA_S02_01_02_2_2024.pdf   \n",
       "GROUPAMA_01                    Single_pdf/GROUPAMA_S02_01_02_1_2024.pdf   \n",
       "ALLIANZ_UNICREDIT_01  Single_pdf/ALLIANZ_UNICREDIT_S02_01_02_1_2024.pdf   \n",
       "ALLIANZ_UNICREDIT_02  Single_pdf/ALLIANZ_UNICREDIT_S02_01_02_2_2024.pdf   \n",
       "ZURICH_LIFE_01              Single_pdf/ZURICH_LIFE_S02_01_02_1_2024.pdf   \n",
       "ZURICH_LIFE_02              Single_pdf/ZURICH_LIFE_S02_01_02_2_2024.pdf   \n",
       "\n",
       "                                                  output_final_path  \\\n",
       "id                                                                    \n",
       "CREDEM_VITA_02_1                 Output/CREDEM_S02_01_02_1_2024.csv   \n",
       "CREDEM_VITA_02_2                 Output/CREDEM_S02_01_02_2_2024.csv   \n",
       "AXA_VITA_02_01                      Output/AXA_S02_01_02_1_2024.csv   \n",
       "CREDAG_VITA_02_01                    Output/CA_S02_01_02_1_2024.csv   \n",
       "CREDAG_VITA_02_02                    Output/CA_S02_01_02_2_2024.csv   \n",
       "REALE_02_01                          Output/RM_S02_01_02_1_2024.csv   \n",
       "REALE_02_02                          Output/RM_S02_01_02_2_2024.csv   \n",
       "CARDIF_02_01                     Output/CARDIF_S02_01_02_1_2024.csv   \n",
       "MEDIO_02_01                       Output/MEDIO_S02_01_02_1_2024.csv   \n",
       "MEDIO_02_02                       Output/MEDIO_S02_01_02_2_2024.csv   \n",
       "GEN_ITA_02_01                   Output/GEN_ITA_S02_01_02_1_2024.csv   \n",
       "GEN_ITA_02_02                   Output/GEN_ITA_S02_01_02_2_2024.csv   \n",
       "BMP_VITA_02_01                 Output/BMP_VITA_S02_01_02_1_2024.csv   \n",
       "BMP_VITA_02_02                 Output/BMP_VITA_S02_01_02_2_2024.csv   \n",
       "HDI_01                              Output/HDI_S02_01_02_1_2024.csv   \n",
       "HDI_02                              Output/HDI_S02_01_02_2_2024.csv   \n",
       "POSTE_VITA_01                Output/POSTE_VITA_S02_01_02_1_2024.csv   \n",
       "POSTE_VITA_02                Output/POSTE_VITA_S02_01_02_2_2024.csv   \n",
       "INTESA_VITA_01              Output/INTESA_VITA_S02_01_02_1_2024.csv   \n",
       "INTESA_VITA_02              Output/INTESA_VITA_S02_01_02_2_2024.csv   \n",
       "CNP_VITA_01                    Output/CNP_VITA_S02_01_02_1_2024.csv   \n",
       "CNP_VITA_02                    Output/CNP_VITA_S02_01_02_2_2024.csv   \n",
       "ITAS_VITA_01                  Output/ITAS_VITA_S02_01_02_1_2024.csv   \n",
       "ITAS_VITA_02                  Output/ITAS_VITA_S02_01_02_2_2024.csv   \n",
       "HELVETIA_VITA_01          Output/HELVETIA_VITA_S02_01_02_1_2024.csv   \n",
       "HELVETIA_VITA_02          Output/HELVETIA_VITA_S02_01_02_2_2024.csv   \n",
       "VITTORIA_01                    Output/VITTORIA_S02_01_02_1_2024.csv   \n",
       "VITTORIA_02                    Output/VITTORIA_S02_01_02_2_2024.csv   \n",
       "GROUPAMA_01                    Output/GROUPAMA_S02_01_02_1_2024.csv   \n",
       "ALLIANZ_UNICREDIT_01  Output/ALLIANZ_UNICREDIT_S02_01_02_1_2024.csv   \n",
       "ALLIANZ_UNICREDIT_02  Output/ALLIANZ_UNICREDIT_S02_01_02_2_2024.csv   \n",
       "ZURICH_LIFE_01              Output/ZURICH_LIFE_S02_01_02_1_2024.csv   \n",
       "ZURICH_LIFE_02              Output/ZURICH_LIFE_S02_01_02_2_2024.csv   \n",
       "\n",
       "                      codes_path  leto  \n",
       "id                                      \n",
       "CREDEM_VITA_02_1             NaN  2024  \n",
       "CREDEM_VITA_02_2             NaN  2024  \n",
       "AXA_VITA_02_01               NaN  2024  \n",
       "CREDAG_VITA_02_01            NaN  2024  \n",
       "CREDAG_VITA_02_02            NaN  2024  \n",
       "REALE_02_01                  NaN  2024  \n",
       "REALE_02_02                  NaN  2024  \n",
       "CARDIF_02_01                 NaN  2024  \n",
       "MEDIO_02_01                  NaN  2024  \n",
       "MEDIO_02_02                  NaN  2024  \n",
       "GEN_ITA_02_01                NaN  2024  \n",
       "GEN_ITA_02_02                NaN  2024  \n",
       "BMP_VITA_02_01               NaN  2024  \n",
       "BMP_VITA_02_02               NaN  2024  \n",
       "HDI_01                       NaN  2024  \n",
       "HDI_02                       NaN  2024  \n",
       "POSTE_VITA_01                NaN  2024  \n",
       "POSTE_VITA_02                NaN  2024  \n",
       "INTESA_VITA_01               NaN  2024  \n",
       "INTESA_VITA_02               NaN  2024  \n",
       "CNP_VITA_01                  NaN  2024  \n",
       "CNP_VITA_02                  NaN  2024  \n",
       "ITAS_VITA_01                 NaN  2024  \n",
       "ITAS_VITA_02                 NaN  2024  \n",
       "HELVETIA_VITA_01             NaN  2024  \n",
       "HELVETIA_VITA_02             NaN  2024  \n",
       "VITTORIA_01                  NaN  2024  \n",
       "VITTORIA_02                  NaN  2024  \n",
       "GROUPAMA_01                  NaN  2024  \n",
       "ALLIANZ_UNICREDIT_01         NaN  2024  \n",
       "ALLIANZ_UNICREDIT_02         NaN  2024  \n",
       "ZURICH_LIFE_01               NaN  2024  \n",
       "ZURICH_LIFE_02               NaN  2024  "
      ]
     },
     "metadata": {},
     "output_type": "display_data"
    }
   ],
   "source": [
    "display(master_list)"
   ]
  },
  {
   "cell_type": "markdown",
   "id": "22229ff0-f643-471c-a350-bf51a75f7a84",
   "metadata": {},
   "source": [
    "# Code"
   ]
  },
  {
   "cell_type": "markdown",
   "id": "164fb697-1384-4dcd-afd6-52b7ee6f116f",
   "metadata": {},
   "source": [
    "## Credemvita S.p.A."
   ]
  },
  {
   "cell_type": "markdown",
   "id": "277ba05a-767c-4b79-ac31-ac4aed96b635",
   "metadata": {},
   "source": [
    "S.02.01.02 1"
   ]
  },
  {
   "cell_type": "code",
   "execution_count": 21,
   "id": "39ca81aa-79a8-49fb-b7c2-880812a9eabd",
   "metadata": {},
   "outputs": [],
   "source": [
    "unique_id = \"CREDEM_VITA_02_1\"\n",
    "pdf_path, page_number, output_pdf_path, output_final_path, codes_path =  extract_paths(master_list=master_list, unique_id=unique_id)\n",
    "extract_page(input_pdf_path=pdf_path, output_pdf_path=output_pdf_path, page_number=page_number, password = \"\")"
   ]
  },
  {
   "cell_type": "code",
   "execution_count": 22,
   "id": "23892910-7d6d-4a3a-a10b-3e52710adb35",
   "metadata": {
    "scrolled": true
   },
   "outputs": [],
   "source": [
    "table = run_ocr_and_convert_to_df(path=output_pdf_path, api_key=api_key)"
   ]
  },
  {
   "cell_type": "code",
   "execution_count": 23,
   "id": "95e9df98-2a19-4ece-bf60-3c9886bc4ed5",
   "metadata": {},
   "outputs": [],
   "source": [
    "table.columns = [\"DESCRIPTION\",\"CODE\", \"C0010\"]\n",
    "table.drop(index=[0],inplace=True)"
   ]
  },
  {
   "cell_type": "code",
   "execution_count": 24,
   "id": "02434e0b-8149-40cc-acc3-da6738d4cb39",
   "metadata": {},
   "outputs": [],
   "source": [
    "set_code_index_and_save(table=table, path=output_final_path)"
   ]
  },
  {
   "cell_type": "code",
   "execution_count": 25,
   "id": "88808713-ccfe-4219-b8da-03c3769cee2e",
   "metadata": {},
   "outputs": [],
   "source": [
    "del table"
   ]
  },
  {
   "cell_type": "markdown",
   "id": "a8ad07e4-0995-4ff5-a2c2-6799f4e8bbf3",
   "metadata": {},
   "source": [
    "S.02.01.02 2"
   ]
  },
  {
   "cell_type": "code",
   "execution_count": 26,
   "id": "86b14497-91b8-43f6-b8c1-46aef27115e0",
   "metadata": {},
   "outputs": [],
   "source": [
    "unique_id = \"CREDEM_VITA_02_2\"\n",
    "pdf_path, page_number, output_pdf_path, output_final_path, codes_path =  extract_paths(master_list=master_list, unique_id=unique_id)\n",
    "extract_page(input_pdf_path=pdf_path, output_pdf_path=output_pdf_path, page_number=page_number, password = \"\")"
   ]
  },
  {
   "cell_type": "code",
   "execution_count": 27,
   "id": "dd14e137-c36b-45ae-93c3-62525d9bc618",
   "metadata": {},
   "outputs": [],
   "source": [
    "table = extract_tables_from_pdf(pdf_path=output_pdf_path, page_number=1)"
   ]
  },
  {
   "cell_type": "code",
   "execution_count": 28,
   "id": "73d7a03b-af0d-49f9-91e5-6aaaaa25ea3d",
   "metadata": {},
   "outputs": [],
   "source": [
    "table.columns = [\"DESCRIPTION\",\"CODE\", \"C0010\"]\n",
    "table.drop(index=[39],inplace=True)"
   ]
  },
  {
   "cell_type": "code",
   "execution_count": 29,
   "id": "aad084de-3b2f-4f64-9e08-46573a19c839",
   "metadata": {},
   "outputs": [],
   "source": [
    "set_code_index_and_save(table=table, path=output_final_path)"
   ]
  },
  {
   "cell_type": "code",
   "execution_count": 30,
   "id": "f5e8a272-588c-4740-8fd4-187c13cbe122",
   "metadata": {},
   "outputs": [],
   "source": [
    "del table"
   ]
  },
  {
   "cell_type": "markdown",
   "id": "eb08b76b-1161-4241-9fac-fe241ea49505",
   "metadata": {},
   "source": [
    "## AXA MPS Assicurazioni Vita"
   ]
  },
  {
   "cell_type": "markdown",
   "id": "e3949efd-9e38-402f-a29b-c3eecff1fdf7",
   "metadata": {},
   "source": [
    "S.02.01.02 1"
   ]
  },
  {
   "cell_type": "code",
   "execution_count": 31,
   "id": "5e26815b-d6c3-421a-a478-cd6c55fd2445",
   "metadata": {},
   "outputs": [],
   "source": [
    "unique_id = \"AXA_VITA_02_01\"\n",
    "pdf_path, page_number, output_pdf_path, output_final_path, codes_path =  extract_paths(master_list=master_list, unique_id=unique_id)\n",
    "extract_page(input_pdf_path=pdf_path, output_pdf_path=output_pdf_path, page_number=page_number, password = \"\")"
   ]
  },
  {
   "cell_type": "code",
   "execution_count": 32,
   "id": "cc1c96b2-c1be-4753-bb54-9ffa0505c79c",
   "metadata": {},
   "outputs": [
    {
     "name": "stderr",
     "output_type": "stream",
     "text": [
      "Cannot set gray non-stroke color because /'R768' is an invalid float value\n",
      "Cannot set gray non-stroke color because /'R770' is an invalid float value\n"
     ]
    }
   ],
   "source": [
    "table = extract_tables_from_pdf(pdf_path=output_pdf_path, page_number=1)"
   ]
  },
  {
   "cell_type": "code",
   "execution_count": 33,
   "id": "75ab7397-c5d0-47b6-9c00-3cba605a647e",
   "metadata": {},
   "outputs": [],
   "source": [
    "table = table.iloc[:,[2,3]]\n",
    "table.columns = [\"CODE\", \"C0010\"]\n",
    "table.drop(index=[0, 1, 43, 44, 45, 86],inplace=True)"
   ]
  },
  {
   "cell_type": "code",
   "execution_count": 34,
   "id": "d25c6d73-e36d-4a7e-9f45-1e536eaa7a99",
   "metadata": {},
   "outputs": [],
   "source": [
    "set_code_index_and_save(table=table, path=output_final_path)"
   ]
  },
  {
   "cell_type": "code",
   "execution_count": 35,
   "id": "239eabd5-a493-4940-b218-d029ad6ab999",
   "metadata": {},
   "outputs": [],
   "source": [
    "del table"
   ]
  },
  {
   "cell_type": "markdown",
   "id": "4f0dd69e-ccc4-4574-a45b-4ca3fcc6f2bd",
   "metadata": {},
   "source": [
    "## CRÈDIT AGRICOLE VITA"
   ]
  },
  {
   "cell_type": "markdown",
   "id": "b52fc092-6254-4c0b-803c-626167a79ced",
   "metadata": {},
   "source": [
    "S.02.01.02 1"
   ]
  },
  {
   "cell_type": "code",
   "execution_count": 36,
   "id": "76bc72c9-d0b3-49a3-a60c-eab7debb420a",
   "metadata": {},
   "outputs": [],
   "source": [
    "unique_id = \"CREDAG_VITA_02_01\"\n",
    "pdf_path, page_number, output_pdf_path, output_final_path, codes_path =  extract_paths(master_list=master_list, unique_id=unique_id)\n",
    "extract_page(input_pdf_path=pdf_path, output_pdf_path=output_pdf_path, page_number=page_number, password = \"\")"
   ]
  },
  {
   "cell_type": "code",
   "execution_count": 37,
   "id": "4830a5ce-024d-4675-a7f0-cf91ec40ad0d",
   "metadata": {},
   "outputs": [],
   "source": [
    "table = run_ocr_and_convert_to_df(path=output_pdf_path, api_key=api_key)"
   ]
  },
  {
   "cell_type": "code",
   "execution_count": 38,
   "id": "e2dab219-d869-49bb-ba5f-da8814b66069",
   "metadata": {},
   "outputs": [],
   "source": [
    "table.columns = [\"DESCRIPTION\",\"CODE\", \"C0010\"]"
   ]
  },
  {
   "cell_type": "code",
   "execution_count": 39,
   "id": "eb02e1ba-1977-46a0-bb1d-9ab75618bdb4",
   "metadata": {},
   "outputs": [],
   "source": [
    "set_code_index_and_save(table=table, path=output_final_path)"
   ]
  },
  {
   "cell_type": "code",
   "execution_count": 40,
   "id": "03fd5e8c-ab62-48d7-bbb4-6137c3af6324",
   "metadata": {},
   "outputs": [],
   "source": [
    "del table"
   ]
  },
  {
   "cell_type": "markdown",
   "id": "9c4899d0-ec81-4402-b537-ab4c92f03274",
   "metadata": {},
   "source": [
    "S.02.01.02 2"
   ]
  },
  {
   "cell_type": "code",
   "execution_count": 41,
   "id": "5cfdde86-6c8b-4cf4-bb3b-b9b2463c712b",
   "metadata": {},
   "outputs": [],
   "source": [
    "unique_id = \"CREDAG_VITA_02_02\"\n",
    "pdf_path, page_number, output_pdf_path, output_final_path, codes_path =  extract_paths(master_list=master_list, unique_id=unique_id)\n",
    "extract_page(input_pdf_path=pdf_path, output_pdf_path=output_pdf_path, page_number=page_number, password = \"\")"
   ]
  },
  {
   "cell_type": "code",
   "execution_count": 42,
   "id": "7088bbc9-b978-4502-a28e-ccfaa2344931",
   "metadata": {},
   "outputs": [],
   "source": [
    "table = run_ocr_and_convert_to_df(path=output_pdf_path, api_key=api_key)"
   ]
  },
  {
   "cell_type": "code",
   "execution_count": 43,
   "id": "29afd64b-0dcf-4247-9da1-8bca48fedad6",
   "metadata": {},
   "outputs": [],
   "source": [
    "table.columns = [\"DESCRIPTION\",\"CODE\", \"C0010\"]"
   ]
  },
  {
   "cell_type": "code",
   "execution_count": 44,
   "id": "d1b75890-a73b-4e19-894c-53129aa6aea7",
   "metadata": {},
   "outputs": [],
   "source": [
    "set_code_index_and_save(table=table, path=output_final_path)"
   ]
  },
  {
   "cell_type": "code",
   "execution_count": 45,
   "id": "af1ab89b-33cc-478c-aa9e-2d1a24a75402",
   "metadata": {},
   "outputs": [],
   "source": [
    "del table"
   ]
  },
  {
   "cell_type": "markdown",
   "id": "2d9ee0f2-c11c-4dff-ba1f-601635d3acb5",
   "metadata": {},
   "source": [
    "## Società Reale Mutua di Assicurazioni"
   ]
  },
  {
   "cell_type": "markdown",
   "id": "795d552b-7baf-44e1-84ba-04da1068154d",
   "metadata": {},
   "source": [
    "S.02.01.02 1"
   ]
  },
  {
   "cell_type": "code",
   "execution_count": 46,
   "id": "ce5b1766-27ab-4c90-9237-f39a6ee4b15d",
   "metadata": {},
   "outputs": [],
   "source": [
    "unique_id = \"REALE_02_01\"\n",
    "pdf_path, page_number, output_pdf_path, output_final_path, codes_path =  extract_paths(master_list=master_list, unique_id=unique_id)\n",
    "extract_page(input_pdf_path=pdf_path, output_pdf_path=output_pdf_path, page_number=page_number, password = \"\")"
   ]
  },
  {
   "cell_type": "code",
   "execution_count": 47,
   "id": "03e86da3-93fe-45e4-8dc6-4aa1a15c4969",
   "metadata": {},
   "outputs": [],
   "source": [
    "table = extract_tables_from_pdf(pdf_path=output_pdf_path, page_number=1)"
   ]
  },
  {
   "cell_type": "code",
   "execution_count": 48,
   "id": "1364a9d7-8977-4d2f-afc3-1d1fc7517a40",
   "metadata": {},
   "outputs": [],
   "source": [
    "table = convert_to_dataframe(table.columns.values[0])"
   ]
  },
  {
   "cell_type": "code",
   "execution_count": 49,
   "id": "f0f369c1-fa6a-40e8-b7ea-137c74fac5a9",
   "metadata": {},
   "outputs": [],
   "source": [
    "table = append_zero_if_len4(table,\"CODE\")"
   ]
  },
  {
   "cell_type": "code",
   "execution_count": 50,
   "id": "d849a9dc-85c8-40ad-811c-72d79559e777",
   "metadata": {},
   "outputs": [],
   "source": [
    "table.columns = [\"CODE\",\"DESCRIPTION\", \"C0010\"]"
   ]
  },
  {
   "cell_type": "code",
   "execution_count": 51,
   "id": "9749e5c3-3183-44ce-b7e4-1b2b5ebd564b",
   "metadata": {},
   "outputs": [],
   "source": [
    "set_code_index_and_save(table=table, path=output_final_path)"
   ]
  },
  {
   "cell_type": "code",
   "execution_count": 52,
   "id": "0018d4dc-6759-41bc-8b8c-d4e7ebc84fd9",
   "metadata": {},
   "outputs": [],
   "source": [
    "del table"
   ]
  },
  {
   "cell_type": "markdown",
   "id": "ce6aa3ee-99d1-45e9-88bc-5e706e207d8c",
   "metadata": {},
   "source": [
    "S.02.01.02 2"
   ]
  },
  {
   "cell_type": "code",
   "execution_count": 53,
   "id": "d91c247e-1922-45aa-9297-1ce7f885cd69",
   "metadata": {},
   "outputs": [],
   "source": [
    "unique_id = \"REALE_02_02\"\n",
    "pdf_path, page_number, output_pdf_path, output_final_path, codes_path =  extract_paths(master_list=master_list, unique_id=unique_id)\n",
    "extract_page(input_pdf_path=pdf_path, output_pdf_path=output_pdf_path, page_number=page_number, password = \"\")"
   ]
  },
  {
   "cell_type": "code",
   "execution_count": 54,
   "id": "98e29a85-b9f3-4ad6-af09-ea3583a61cca",
   "metadata": {},
   "outputs": [],
   "source": [
    "table_index = run_ocr_and_convert_to_df(path=output_pdf_path, api_key=api_key)"
   ]
  },
  {
   "cell_type": "code",
   "execution_count": 55,
   "id": "6553bf03-3ca3-4571-a692-c7dd88f214af",
   "metadata": {},
   "outputs": [],
   "source": [
    "with pdfplumber.open(pdf_path) as pdf:\n",
    "    page = pdf.pages[page_number - 1]  # Pages are zero-indexed\n",
    "    tables = page.extract_tables()\n",
    "    table_numbers = pd.DataFrame(tables[0])"
   ]
  },
  {
   "cell_type": "code",
   "execution_count": 56,
   "id": "485c940d-1fb6-4f58-b821-25b5731ebf03",
   "metadata": {},
   "outputs": [],
   "source": [
    "table = pd.concat([table_index, table_numbers], axis=1)"
   ]
  },
  {
   "cell_type": "code",
   "execution_count": 57,
   "id": "c0987f19-e96d-4048-8d00-65a4602c8cbc",
   "metadata": {},
   "outputs": [],
   "source": [
    "table.iloc[-1,1] = table.iloc[-1,0]"
   ]
  },
  {
   "cell_type": "code",
   "execution_count": 58,
   "id": "7b0093fd-a7c9-47d8-bbd1-f5bf008dbc71",
   "metadata": {},
   "outputs": [],
   "source": [
    "table.columns = [\"DESCRIPTION\",\"CODE\", \"C0010\"]"
   ]
  },
  {
   "cell_type": "code",
   "execution_count": 59,
   "id": "bf804703-932c-4b5a-9aab-e60dbb549575",
   "metadata": {},
   "outputs": [],
   "source": [
    "set_code_index_and_save(table=table, path=output_final_path)"
   ]
  },
  {
   "cell_type": "code",
   "execution_count": 60,
   "id": "d7ae1b2c-149e-4b75-b89c-8238b9e771a5",
   "metadata": {},
   "outputs": [],
   "source": [
    "del table\n",
    "del table_index\n",
    "del table_numbers"
   ]
  },
  {
   "cell_type": "markdown",
   "id": "15e49cf1-e0c7-4b33-884c-2ab42ce896dd",
   "metadata": {},
   "source": [
    "## Cardif Vita S.p.A."
   ]
  },
  {
   "cell_type": "markdown",
   "id": "79a59e95-2715-4cbf-9472-50ff507d3c5f",
   "metadata": {},
   "source": [
    "S.02.01.02"
   ]
  },
  {
   "cell_type": "code",
   "execution_count": 61,
   "id": "74870d35-b460-4520-b34e-1fcf5438a132",
   "metadata": {},
   "outputs": [],
   "source": [
    "unique_id = \"CARDIF_02_01\"\n",
    "pdf_path, page_number, output_pdf_path, output_final_path, codes_path =  extract_paths(master_list=master_list, unique_id=unique_id)\n",
    "extract_page(input_pdf_path=pdf_path, output_pdf_path=output_pdf_path, page_number=page_number, password = \"\")"
   ]
  },
  {
   "cell_type": "code",
   "execution_count": 62,
   "id": "d9af15fe-8db5-4515-abf2-a1f2ec42f2e2",
   "metadata": {},
   "outputs": [],
   "source": [
    "table = extract_tables_from_pdf(pdf_path=output_pdf_path, page_number=1)"
   ]
  },
  {
   "cell_type": "code",
   "execution_count": 63,
   "id": "91b5f438-a9df-4898-bd32-f5afa67a8011",
   "metadata": {},
   "outputs": [],
   "source": [
    "table.columns = [\"DESCRIPTION\",\"CODE\", \"C0010\"]\n",
    "table.drop(index=[0,1,2],inplace=True)"
   ]
  },
  {
   "cell_type": "code",
   "execution_count": 64,
   "id": "6a657859-a973-405c-9036-c7270b9dcf33",
   "metadata": {},
   "outputs": [],
   "source": [
    "set_code_index_and_save(table=table, path=output_final_path)"
   ]
  },
  {
   "cell_type": "code",
   "execution_count": 65,
   "id": "d386dc14-0dce-4c36-9546-b5d920e64318",
   "metadata": {},
   "outputs": [],
   "source": [
    "del table"
   ]
  },
  {
   "cell_type": "markdown",
   "id": "2e4d2984-88c1-46ab-84a9-9dcb4571e04a",
   "metadata": {},
   "source": [
    "## MEDIOLANUM VITA S.p.A."
   ]
  },
  {
   "cell_type": "markdown",
   "id": "158c1da7-3fb2-49cc-8ec6-9403d45e2739",
   "metadata": {},
   "source": [
    "S.02.01.02 1"
   ]
  },
  {
   "cell_type": "code",
   "execution_count": 66,
   "id": "5a77bfc0-2143-46d4-9c38-719d73d2f12c",
   "metadata": {},
   "outputs": [],
   "source": [
    "unique_id = \"MEDIO_02_01\"\n",
    "pdf_path, page_number, output_pdf_path, output_final_path, codes_path =  extract_paths(master_list=master_list, unique_id=unique_id)\n",
    "extract_page(input_pdf_path=pdf_path, output_pdf_path=output_pdf_path, page_number=page_number, password = \"\")"
   ]
  },
  {
   "cell_type": "code",
   "execution_count": 67,
   "id": "b5a226c8-3af9-4d56-aa82-40c4741db7bf",
   "metadata": {},
   "outputs": [],
   "source": [
    "table = run_ocr_and_convert_to_df(path=output_pdf_path, api_key=api_key)"
   ]
  },
  {
   "cell_type": "code",
   "execution_count": 68,
   "id": "a85f13ad-4b4d-4696-aaae-ace25b0dddd4",
   "metadata": {},
   "outputs": [],
   "source": [
    "table.columns = [\"DESCRIPTION\",\"CODE\", \"C0010\"]"
   ]
  },
  {
   "cell_type": "code",
   "execution_count": 69,
   "id": "cf493950-bb4d-4c24-8b5f-a6e3cfeabd3a",
   "metadata": {},
   "outputs": [],
   "source": [
    "set_code_index_and_save(table=table, path=output_final_path)"
   ]
  },
  {
   "cell_type": "code",
   "execution_count": 70,
   "id": "e9456127-0448-484d-8d77-884af991a84d",
   "metadata": {},
   "outputs": [],
   "source": [
    "del table"
   ]
  },
  {
   "cell_type": "markdown",
   "id": "c8170697-9db5-4a6f-9f7a-0b267cf3c496",
   "metadata": {},
   "source": [
    "S.02.01.02 2"
   ]
  },
  {
   "cell_type": "code",
   "execution_count": 71,
   "id": "d07a3e50-2aa0-44ca-b63c-3bc7ba77e06e",
   "metadata": {},
   "outputs": [],
   "source": [
    "unique_id = \"MEDIO_02_02\"\n",
    "pdf_path, page_number, output_pdf_path, output_final_path, codes_path =  extract_paths(master_list=master_list, unique_id=unique_id)\n",
    "extract_page(input_pdf_path=pdf_path, output_pdf_path=output_pdf_path, page_number=page_number, password = \"\")"
   ]
  },
  {
   "cell_type": "code",
   "execution_count": 72,
   "id": "81b833a5-96e6-41f8-a124-7e31a8d0dd48",
   "metadata": {},
   "outputs": [],
   "source": [
    "table = run_ocr_and_convert_to_df(path=output_pdf_path, api_key=api_key)"
   ]
  },
  {
   "cell_type": "code",
   "execution_count": 73,
   "id": "0f31439c-3ed2-4793-8a98-056028dc2505",
   "metadata": {},
   "outputs": [],
   "source": [
    "table.columns = [\"DESCRIPTION\",\"CODE\", \"C0010\"]"
   ]
  },
  {
   "cell_type": "code",
   "execution_count": 74,
   "id": "01570cbb-1598-4e5a-b424-432c2e591986",
   "metadata": {},
   "outputs": [],
   "source": [
    "set_code_index_and_save(table=table, path=output_final_path)"
   ]
  },
  {
   "cell_type": "code",
   "execution_count": 75,
   "id": "af51debb-7d35-4261-8cc8-deabc8b008c9",
   "metadata": {},
   "outputs": [],
   "source": [
    "del table"
   ]
  },
  {
   "cell_type": "markdown",
   "id": "22fce080-ab90-4cd1-b158-c23d6f906dd7",
   "metadata": {},
   "source": [
    "## Generali Italia S.p.A."
   ]
  },
  {
   "cell_type": "markdown",
   "id": "1ace3dae-76e6-4b5a-8618-e57c9f294ac1",
   "metadata": {},
   "source": [
    "S.02.01.02 1"
   ]
  },
  {
   "cell_type": "code",
   "execution_count": 76,
   "id": "9d2d3dc3-528d-408e-8f9c-2fa76e60570f",
   "metadata": {},
   "outputs": [],
   "source": [
    "unique_id = \"GEN_ITA_02_01\"\n",
    "pdf_path, page_number, output_pdf_path, output_final_path, codes_path =  extract_paths(master_list=master_list, unique_id=unique_id)\n",
    "extract_page(input_pdf_path=pdf_path, output_pdf_path=output_pdf_path, page_number=page_number, password = \"\")"
   ]
  },
  {
   "cell_type": "code",
   "execution_count": 77,
   "id": "d0b2c17c-dc4b-41fe-b0db-bc3e8e32f731",
   "metadata": {},
   "outputs": [],
   "source": [
    "table = run_ocr_and_convert_to_df(path=output_pdf_path, api_key=api_key)"
   ]
  },
  {
   "cell_type": "code",
   "execution_count": 78,
   "id": "27c5757a-0153-464d-907c-86c68b9832bb",
   "metadata": {},
   "outputs": [],
   "source": [
    "table.columns = [\"DESCRIPTION\",\"CODE\", \"C0010\"]"
   ]
  },
  {
   "cell_type": "code",
   "execution_count": 79,
   "id": "cf32c8c9-b07e-4b8d-9b47-7fc3d661294e",
   "metadata": {},
   "outputs": [],
   "source": [
    "set_code_index_and_save(table=table, path=output_final_path)"
   ]
  },
  {
   "cell_type": "code",
   "execution_count": 80,
   "id": "a434054f-c046-47cd-8b80-ae370822b24b",
   "metadata": {},
   "outputs": [],
   "source": [
    "del table"
   ]
  },
  {
   "cell_type": "markdown",
   "id": "77d5de66-b183-403c-a3a2-3988dee571ba",
   "metadata": {},
   "source": [
    "S.02.01.02 2"
   ]
  },
  {
   "cell_type": "code",
   "execution_count": 81,
   "id": "8fb6b94e-21e2-474e-bbed-a12f1749fdd3",
   "metadata": {},
   "outputs": [],
   "source": [
    "unique_id = \"GEN_ITA_02_02\"\n",
    "pdf_path, page_number, output_pdf_path, output_final_path, codes_path =  extract_paths(master_list=master_list, unique_id=unique_id)\n",
    "extract_page(input_pdf_path=pdf_path, output_pdf_path=output_pdf_path, page_number=page_number, password = \"\")"
   ]
  },
  {
   "cell_type": "code",
   "execution_count": 82,
   "id": "d9e71773-de7f-40b8-a0df-0392225f7827",
   "metadata": {},
   "outputs": [],
   "source": [
    "table = run_ocr_and_convert_to_df(path=output_pdf_path, api_key=api_key)"
   ]
  },
  {
   "cell_type": "code",
   "execution_count": 83,
   "id": "a73ad18d-7f87-457e-bf04-499f8098fb2e",
   "metadata": {},
   "outputs": [],
   "source": [
    "table.columns = [\"DESCRIPTION\",\"CODE\", \"C0010\"]"
   ]
  },
  {
   "cell_type": "code",
   "execution_count": 84,
   "id": "1bd4526a-9063-4b40-b654-f7ddd442c666",
   "metadata": {},
   "outputs": [],
   "source": [
    "set_code_index_and_save(table=table, path=output_final_path)"
   ]
  },
  {
   "cell_type": "code",
   "execution_count": 85,
   "id": "3f044594-01ed-42b9-9b79-ca89e4ef338f",
   "metadata": {},
   "outputs": [],
   "source": [
    "del table"
   ]
  },
  {
   "cell_type": "markdown",
   "id": "0503bdf8-48f6-41a9-9f48-1b7d52ba8c1f",
   "metadata": {},
   "source": [
    "## Banco BPM Vita S.p.A."
   ]
  },
  {
   "cell_type": "markdown",
   "id": "9ddb9778-baf4-4366-b784-ea6f4b342fc6",
   "metadata": {},
   "source": [
    "S.02.01.02 1"
   ]
  },
  {
   "cell_type": "code",
   "execution_count": 86,
   "id": "238f7cfe-6aa0-4bfd-8c36-39a079e62bb9",
   "metadata": {},
   "outputs": [],
   "source": [
    "unique_id = \"BMP_VITA_02_01\"\n",
    "pdf_path, page_number, output_pdf_path, output_final_path, codes_path =  extract_paths(master_list=master_list, unique_id=unique_id)\n",
    "extract_page(input_pdf_path=pdf_path, output_pdf_path=output_pdf_path, page_number=page_number, password = \"\")"
   ]
  },
  {
   "cell_type": "code",
   "execution_count": 87,
   "id": "12f407a3-651f-4883-bb64-393e1c7b6be5",
   "metadata": {},
   "outputs": [],
   "source": [
    "table = run_ocr_and_convert_to_df(path=output_pdf_path, api_key=api_key)"
   ]
  },
  {
   "cell_type": "code",
   "execution_count": 88,
   "id": "466faa31-a694-46ba-a372-09f02cf6dde7",
   "metadata": {},
   "outputs": [],
   "source": [
    "table.columns = [\"DESCRIPTION\",\"CODE\", \"C0010\"]"
   ]
  },
  {
   "cell_type": "code",
   "execution_count": 89,
   "id": "087635dd-0854-4b7c-90d4-b659dbce5ff2",
   "metadata": {},
   "outputs": [],
   "source": [
    "set_code_index_and_save(table=table, path=output_final_path)"
   ]
  },
  {
   "cell_type": "code",
   "execution_count": 90,
   "id": "e28135e8-cb3a-4066-938e-095a5c5fc1b6",
   "metadata": {},
   "outputs": [],
   "source": [
    "del table"
   ]
  },
  {
   "cell_type": "markdown",
   "id": "eaaa4d79-3f10-4661-86a8-230af5ca607a",
   "metadata": {},
   "source": [
    "S.02.01.02 2"
   ]
  },
  {
   "cell_type": "code",
   "execution_count": 91,
   "id": "e05bbaf6-4ece-4ca9-ad8a-5f3bc208091f",
   "metadata": {},
   "outputs": [],
   "source": [
    "unique_id = \"BMP_VITA_02_02\"\n",
    "pdf_path, page_number, output_pdf_path, output_final_path, codes_path =  extract_paths(master_list=master_list, unique_id=unique_id)\n",
    "extract_page(input_pdf_path=pdf_path, output_pdf_path=output_pdf_path, page_number=page_number, password = \"\")"
   ]
  },
  {
   "cell_type": "code",
   "execution_count": 92,
   "id": "684d1a2a-b5a8-4c62-b4b0-9d1b51c8a040",
   "metadata": {},
   "outputs": [],
   "source": [
    "table = run_ocr_and_convert_to_df(path=output_pdf_path, api_key=api_key)"
   ]
  },
  {
   "cell_type": "code",
   "execution_count": 93,
   "id": "52db479a-714f-4389-9684-f0d3d0db47f4",
   "metadata": {},
   "outputs": [],
   "source": [
    "table.columns = [\"DESCRIPTION\",\"CODE\", \"C0010\"]"
   ]
  },
  {
   "cell_type": "code",
   "execution_count": 94,
   "id": "0e93177d-1bb8-41e0-afc8-87ded917baff",
   "metadata": {},
   "outputs": [],
   "source": [
    "set_code_index_and_save(table=table, path=output_final_path)"
   ]
  },
  {
   "cell_type": "code",
   "execution_count": 95,
   "id": "ac1278f9-e507-4534-a2a7-43ede54e5fda",
   "metadata": {},
   "outputs": [],
   "source": [
    "del table"
   ]
  },
  {
   "cell_type": "markdown",
   "id": "9cf63b1d-4dc2-486f-97a1-bdc273c3a522",
   "metadata": {},
   "source": [
    "## HDI ASSICURAZIONI S.p.A."
   ]
  },
  {
   "cell_type": "markdown",
   "id": "7de09766-46a4-4e72-8507-092aedd45e54",
   "metadata": {},
   "source": [
    "S.02.01.02 1"
   ]
  },
  {
   "cell_type": "code",
   "execution_count": 96,
   "id": "9ea7dbf3-0766-4f9e-828c-c96583655ccf",
   "metadata": {},
   "outputs": [],
   "source": [
    "unique_id = \"HDI_01\"\n",
    "pdf_path, page_number, output_pdf_path, output_final_path, codes_path =  extract_paths(master_list=master_list, unique_id=unique_id)\n",
    "extract_page(input_pdf_path=pdf_path, output_pdf_path=output_pdf_path, page_number=page_number, password = \"\")"
   ]
  },
  {
   "cell_type": "code",
   "execution_count": 97,
   "id": "58d97751-05eb-40b1-82b4-ef3bea6e0a88",
   "metadata": {},
   "outputs": [],
   "source": [
    "table = run_ocr_and_convert_to_df(path=output_pdf_path, api_key=api_key)"
   ]
  },
  {
   "cell_type": "code",
   "execution_count": 98,
   "id": "109d9e59-9213-4225-b791-91ed28e06eec",
   "metadata": {},
   "outputs": [],
   "source": [
    "table.columns = [\"DESCRIPTION\",\"CODE\", \"C0010\"]"
   ]
  },
  {
   "cell_type": "code",
   "execution_count": 99,
   "id": "a073a1bb-110b-4aca-9ccb-2a449746d3f5",
   "metadata": {},
   "outputs": [],
   "source": [
    "set_code_index_and_save(table=table, path=output_final_path)"
   ]
  },
  {
   "cell_type": "code",
   "execution_count": 100,
   "id": "d015412f-a8d4-46a5-9b5a-da619ed6fd14",
   "metadata": {},
   "outputs": [],
   "source": [
    "del table"
   ]
  },
  {
   "cell_type": "markdown",
   "id": "d85821fd-a206-493d-aca4-e46ab4b48ce6",
   "metadata": {},
   "source": [
    "S.02.01.02 2"
   ]
  },
  {
   "cell_type": "code",
   "execution_count": 101,
   "id": "1c522d45-7c9e-4bd2-91e9-5cf4d1c1744d",
   "metadata": {},
   "outputs": [],
   "source": [
    "unique_id = \"HDI_02\"\n",
    "pdf_path, page_number, output_pdf_path, output_final_path, codes_path =  extract_paths(master_list=master_list, unique_id=unique_id)\n",
    "extract_page(input_pdf_path=pdf_path, output_pdf_path=output_pdf_path, page_number=page_number, password = \"\")"
   ]
  },
  {
   "cell_type": "code",
   "execution_count": 102,
   "id": "91ab160e-181b-4dba-996c-fc94bcbd2da3",
   "metadata": {},
   "outputs": [],
   "source": [
    "table = run_ocr_and_convert_to_df(path=output_pdf_path, api_key=api_key)"
   ]
  },
  {
   "cell_type": "code",
   "execution_count": 103,
   "id": "de204a0a-f38c-4655-aeac-ff2a38cc86a6",
   "metadata": {},
   "outputs": [],
   "source": [
    "table.columns = [\"DESCRIPTION\",\"CODE\", \"C0010\"]"
   ]
  },
  {
   "cell_type": "code",
   "execution_count": 104,
   "id": "e9fa823f-6f05-468d-955d-a2368b333b45",
   "metadata": {},
   "outputs": [],
   "source": [
    "set_code_index_and_save(table=table, path=output_final_path)"
   ]
  },
  {
   "cell_type": "code",
   "execution_count": 105,
   "id": "09701c94-fe15-440a-bd33-034adea5bf6c",
   "metadata": {},
   "outputs": [],
   "source": [
    "del table"
   ]
  },
  {
   "cell_type": "markdown",
   "id": "91487827-8520-4236-a8df-92750f2d7497",
   "metadata": {},
   "source": [
    "## Gruppo Assicurativo Poste Vita"
   ]
  },
  {
   "cell_type": "markdown",
   "id": "1ac565bf-99d1-4f60-ac11-5d046d56efa3",
   "metadata": {},
   "source": [
    "S.02.01.02 1"
   ]
  },
  {
   "cell_type": "code",
   "execution_count": 106,
   "id": "10fa9f64-ad4f-44e8-8844-0224a4763c76",
   "metadata": {},
   "outputs": [],
   "source": [
    "unique_id = \"POSTE_VITA_01\"\n",
    "pdf_path, page_number, output_pdf_path, output_final_path, codes_path =  extract_paths(master_list=master_list, unique_id=unique_id)\n",
    "extract_page(input_pdf_path=pdf_path, output_pdf_path=output_pdf_path, page_number=page_number, password = \"\")"
   ]
  },
  {
   "cell_type": "code",
   "execution_count": 107,
   "id": "7d960e86-d452-4e46-8671-7541e4910fdc",
   "metadata": {
    "scrolled": true
   },
   "outputs": [],
   "source": [
    "table = run_ocr_and_convert_to_df(path=output_pdf_path, api_key=api_key)"
   ]
  },
  {
   "cell_type": "code",
   "execution_count": 108,
   "id": "e5515cae-8ca1-4885-a611-6912050bb33b",
   "metadata": {},
   "outputs": [],
   "source": [
    "table.columns = [\"DESCRIPTION\",\"CODE\", \"C0010\"]"
   ]
  },
  {
   "cell_type": "code",
   "execution_count": 109,
   "id": "f0e6f322-f923-471c-a22b-850b61a26ef9",
   "metadata": {},
   "outputs": [],
   "source": [
    "set_code_index_and_save(table=table, path=output_final_path)"
   ]
  },
  {
   "cell_type": "code",
   "execution_count": 110,
   "id": "e26c2845-5203-4946-a33e-e1922544cd45",
   "metadata": {},
   "outputs": [],
   "source": [
    "del table"
   ]
  },
  {
   "cell_type": "markdown",
   "id": "f9b75ee8-c3bb-438e-b6cc-b1055b033d71",
   "metadata": {},
   "source": [
    "S.02.01.02 2"
   ]
  },
  {
   "cell_type": "code",
   "execution_count": 111,
   "id": "f2eaefb5-931d-4130-9a6d-8f0a15d37f11",
   "metadata": {},
   "outputs": [],
   "source": [
    "unique_id = \"POSTE_VITA_02\"\n",
    "pdf_path, page_number, output_pdf_path, output_final_path, codes_path =  extract_paths(master_list=master_list, unique_id=unique_id)\n",
    "extract_page(input_pdf_path=pdf_path, output_pdf_path=output_pdf_path, page_number=page_number, password = \"\")"
   ]
  },
  {
   "cell_type": "code",
   "execution_count": 112,
   "id": "8274b23d-d917-42b0-8a97-542c1d54d86f",
   "metadata": {},
   "outputs": [],
   "source": [
    "table = run_ocr_and_convert_to_df(path=output_pdf_path, api_key=api_key)"
   ]
  },
  {
   "cell_type": "code",
   "execution_count": 113,
   "id": "c55e08f5-abab-47bb-b27f-1e61cba4e240",
   "metadata": {},
   "outputs": [],
   "source": [
    "table.columns = [\"DESCRIPTION\",\"CODE\", \"C0010\"]"
   ]
  },
  {
   "cell_type": "code",
   "execution_count": 114,
   "id": "459d99f1-c821-498c-9775-40cd4e09d18e",
   "metadata": {},
   "outputs": [],
   "source": [
    "set_code_index_and_save(table=table, path=output_final_path)"
   ]
  },
  {
   "cell_type": "code",
   "execution_count": 115,
   "id": "1aa7c248-3d82-4c20-8101-c9c40d09f0b6",
   "metadata": {},
   "outputs": [],
   "source": [
    "del table"
   ]
  },
  {
   "cell_type": "markdown",
   "id": "182f3c21-d39b-4adf-9872-2c5e21d1f52c",
   "metadata": {},
   "source": [
    "## FIDEURAM VITA S.P.A."
   ]
  },
  {
   "cell_type": "markdown",
   "id": "7bd7605d-b4f8-4b77-8a7d-60dbcb5f0a92",
   "metadata": {},
   "source": [
    "S.02.01.02 1"
   ]
  },
  {
   "cell_type": "code",
   "execution_count": 116,
   "id": "fbfea29b-b876-43b3-9e99-0b2c3a50b623",
   "metadata": {},
   "outputs": [],
   "source": [
    "unique_id = \"INTESA_VITA_01\"\n",
    "pdf_path, page_number, output_pdf_path, output_final_path, codes_path =  extract_paths(master_list=master_list, unique_id=unique_id)\n",
    "extract_page(input_pdf_path=pdf_path, output_pdf_path=output_pdf_path, page_number=page_number, password = \"\")"
   ]
  },
  {
   "cell_type": "code",
   "execution_count": 117,
   "id": "13d61c3b-e1a5-4cf6-8c9f-34674cd7663a",
   "metadata": {},
   "outputs": [],
   "source": [
    "table = run_ocr_and_convert_to_df(path=output_pdf_path, api_key=api_key)"
   ]
  },
  {
   "cell_type": "code",
   "execution_count": 118,
   "id": "b7031fa5-073c-4f90-a4e9-73b523cb8d52",
   "metadata": {},
   "outputs": [],
   "source": [
    "table.columns = [\"DESCRIPTION\",\"CODE\", \"C0010\"]"
   ]
  },
  {
   "cell_type": "code",
   "execution_count": 119,
   "id": "f8370945-f51f-40b4-8423-5f36e0035992",
   "metadata": {},
   "outputs": [],
   "source": [
    "set_code_index_and_save(table=table, path=output_final_path)"
   ]
  },
  {
   "cell_type": "code",
   "execution_count": 120,
   "id": "d452db2e-68cd-4d09-bbea-9d5f183c3d9e",
   "metadata": {},
   "outputs": [],
   "source": [
    "del table"
   ]
  },
  {
   "cell_type": "markdown",
   "id": "ac9b35fa-5f34-4694-9e30-a195d9c73360",
   "metadata": {},
   "source": [
    "S.02.01.02 2"
   ]
  },
  {
   "cell_type": "code",
   "execution_count": 121,
   "id": "96189837-9b0e-4c77-a3e9-52369687c778",
   "metadata": {},
   "outputs": [],
   "source": [
    "unique_id = \"INTESA_VITA_02\"\n",
    "pdf_path, page_number, output_pdf_path, output_final_path, codes_path =  extract_paths(master_list=master_list, unique_id=unique_id)\n",
    "extract_page(input_pdf_path=pdf_path, output_pdf_path=output_pdf_path, page_number=page_number, password = \"\")"
   ]
  },
  {
   "cell_type": "code",
   "execution_count": 122,
   "id": "6596f577-45cf-4bd0-8b1e-5cb9a9cadc0f",
   "metadata": {},
   "outputs": [],
   "source": [
    "table = run_ocr_and_convert_to_df(path=output_pdf_path, api_key=api_key)"
   ]
  },
  {
   "cell_type": "code",
   "execution_count": 123,
   "id": "b597531a-3b35-47d9-96ff-3ab5bba3b1d8",
   "metadata": {},
   "outputs": [],
   "source": [
    "table.columns = [\"DESCRIPTION\",\"CODE\", \"C0010\"]"
   ]
  },
  {
   "cell_type": "code",
   "execution_count": 124,
   "id": "4e300933-fd34-4663-9822-22c4d51ec78a",
   "metadata": {},
   "outputs": [],
   "source": [
    "set_code_index_and_save(table=table, path=output_final_path)"
   ]
  },
  {
   "cell_type": "code",
   "execution_count": 125,
   "id": "928caa82-b1da-480d-af54-6ea9ec978b9e",
   "metadata": {},
   "outputs": [],
   "source": [
    "del table"
   ]
  },
  {
   "cell_type": "markdown",
   "id": "aeecb784-6a8c-436f-aa79-52ede21804e5",
   "metadata": {},
   "source": [
    "## CNP Vita Assicura S.p.A."
   ]
  },
  {
   "cell_type": "markdown",
   "id": "3cceea5c-dfca-4415-80a3-8b1edcb2f0a4",
   "metadata": {},
   "source": [
    "S.02.01.02 1"
   ]
  },
  {
   "cell_type": "code",
   "execution_count": 126,
   "id": "319c03e7-80f4-4a6d-b759-2a0df9943c83",
   "metadata": {},
   "outputs": [],
   "source": [
    "unique_id = \"CNP_VITA_01\"\n",
    "pdf_path, page_number, output_pdf_path, output_final_path, codes_path =  extract_paths(master_list=master_list, unique_id=unique_id)\n",
    "extract_page(input_pdf_path=pdf_path, output_pdf_path=output_pdf_path, page_number=page_number, password = \"\")"
   ]
  },
  {
   "cell_type": "code",
   "execution_count": 127,
   "id": "b758ec16-8314-4deb-9dec-a092a5e68456",
   "metadata": {},
   "outputs": [],
   "source": [
    "table = run_ocr_and_convert_to_df(path=output_pdf_path, api_key=api_key)"
   ]
  },
  {
   "cell_type": "code",
   "execution_count": 128,
   "id": "fee46916-fc0e-4c5c-b34c-5483a4673a84",
   "metadata": {},
   "outputs": [],
   "source": [
    "table.columns = [\"DESCRIPTION\",\"CODE\", \"C0010\"]"
   ]
  },
  {
   "cell_type": "code",
   "execution_count": 129,
   "id": "fc537896-fa17-46ff-bfa1-de1adefa1e62",
   "metadata": {},
   "outputs": [],
   "source": [
    "set_code_index_and_save(table=table, path=output_final_path)"
   ]
  },
  {
   "cell_type": "code",
   "execution_count": 130,
   "id": "b6f15970-254b-4579-a780-31b0fa100acf",
   "metadata": {},
   "outputs": [],
   "source": [
    "del table"
   ]
  },
  {
   "cell_type": "markdown",
   "id": "9f5a1fa4-56c2-424d-a528-cd729d5b2ac3",
   "metadata": {},
   "source": [
    "S.02.01.02 2"
   ]
  },
  {
   "cell_type": "code",
   "execution_count": 131,
   "id": "95a3902c-053d-4729-bf49-afa4e2257241",
   "metadata": {},
   "outputs": [],
   "source": [
    "unique_id = \"CNP_VITA_02\"\n",
    "pdf_path, page_number, output_pdf_path, output_final_path, codes_path =  extract_paths(master_list=master_list, unique_id=unique_id)\n",
    "extract_page(input_pdf_path=pdf_path, output_pdf_path=output_pdf_path, page_number=page_number, password = \"\")"
   ]
  },
  {
   "cell_type": "code",
   "execution_count": 132,
   "id": "f3b854f3-e119-402f-b89b-75e22d07447b",
   "metadata": {},
   "outputs": [],
   "source": [
    "table = run_ocr_and_convert_to_df(path=output_pdf_path, api_key=api_key)"
   ]
  },
  {
   "cell_type": "code",
   "execution_count": 133,
   "id": "473f3b30-de1d-4d13-88db-8a78d6aee27e",
   "metadata": {},
   "outputs": [],
   "source": [
    "table.columns = [\"DESCRIPTION\",\"CODE\", \"C0010\"]"
   ]
  },
  {
   "cell_type": "code",
   "execution_count": 134,
   "id": "971f8ae8-206a-402b-a402-5fa7da8d7ef5",
   "metadata": {},
   "outputs": [],
   "source": [
    "set_code_index_and_save(table=table, path=output_final_path)"
   ]
  },
  {
   "cell_type": "code",
   "execution_count": 135,
   "id": "88f44007-5f34-4e33-b4e5-b7476a23bad6",
   "metadata": {},
   "outputs": [],
   "source": [
    "del table"
   ]
  },
  {
   "cell_type": "markdown",
   "id": "719d5e4d-4ef6-4982-94e0-64bbbeb7757d",
   "metadata": {},
   "source": [
    "## ITAS VITA"
   ]
  },
  {
   "cell_type": "markdown",
   "id": "eca6284f-12bb-4eb3-b44e-51c629b3719c",
   "metadata": {},
   "source": [
    "S.02.01.02 1"
   ]
  },
  {
   "cell_type": "code",
   "execution_count": 136,
   "id": "a7145763-9c2a-471c-86fe-f34b1a807c6b",
   "metadata": {},
   "outputs": [],
   "source": [
    "unique_id = \"ITAS_VITA_01\"\n",
    "pdf_path, page_number, output_pdf_path, output_final_path, codes_path =  extract_paths(master_list=master_list, unique_id=unique_id)\n",
    "extract_page(input_pdf_path=pdf_path, output_pdf_path=output_pdf_path, page_number=page_number, password = \"\")"
   ]
  },
  {
   "cell_type": "code",
   "execution_count": 137,
   "id": "ca82add0-3b39-4a0a-9c81-3c2c95403c2b",
   "metadata": {},
   "outputs": [],
   "source": [
    "table = run_ocr_and_convert_to_df(path=output_pdf_path, api_key=api_key)"
   ]
  },
  {
   "cell_type": "code",
   "execution_count": 138,
   "id": "78c20621-9935-4d2d-a285-7e3a68ba28a7",
   "metadata": {},
   "outputs": [],
   "source": [
    "table.columns = [\"DESCRIPTION\",\"CODE\", \"C0010\"]"
   ]
  },
  {
   "cell_type": "code",
   "execution_count": 139,
   "id": "831c3adc-107d-4c9f-9e56-94897456ed5c",
   "metadata": {},
   "outputs": [],
   "source": [
    "set_code_index_and_save(table=table, path=output_final_path)"
   ]
  },
  {
   "cell_type": "code",
   "execution_count": 140,
   "id": "01f12e77-1efe-482f-8195-0ff9461402c9",
   "metadata": {},
   "outputs": [],
   "source": [
    "del table"
   ]
  },
  {
   "cell_type": "markdown",
   "id": "e0967c68-957a-43e8-bf7a-8538476db342",
   "metadata": {},
   "source": [
    "S.02.01.02 2"
   ]
  },
  {
   "cell_type": "code",
   "execution_count": 141,
   "id": "e21c40f9-af9e-42b7-8907-272fa850204e",
   "metadata": {},
   "outputs": [],
   "source": [
    "unique_id = \"ITAS_VITA_02\"\n",
    "pdf_path, page_number, output_pdf_path, output_final_path, codes_path =  extract_paths(master_list=master_list, unique_id=unique_id)\n",
    "extract_page(input_pdf_path=pdf_path, output_pdf_path=output_pdf_path, page_number=page_number, password = \"\")"
   ]
  },
  {
   "cell_type": "code",
   "execution_count": 142,
   "id": "15dd00e1-79fd-47d4-9609-dc89861cc54e",
   "metadata": {},
   "outputs": [],
   "source": [
    "table = run_ocr_and_convert_to_df(path=output_pdf_path, api_key=api_key)"
   ]
  },
  {
   "cell_type": "code",
   "execution_count": 143,
   "id": "454819db-aa32-4385-b44a-620e5d8089dc",
   "metadata": {},
   "outputs": [],
   "source": [
    "table.columns = [\"DESCRIPTION\",\"CODE\", \"C0010\"]"
   ]
  },
  {
   "cell_type": "code",
   "execution_count": 144,
   "id": "b06ebdf4-8dca-404b-98e4-7dee385af5c7",
   "metadata": {},
   "outputs": [],
   "source": [
    "set_code_index_and_save(table=table, path=output_final_path)"
   ]
  },
  {
   "cell_type": "code",
   "execution_count": 145,
   "id": "27c2b4f1-3561-429a-a33b-9842f8bd8082",
   "metadata": {},
   "outputs": [],
   "source": [
    "del table"
   ]
  },
  {
   "cell_type": "markdown",
   "id": "e7f62f23-ce74-4432-b09e-f07ee641e24e",
   "metadata": {},
   "source": [
    "## Helvetia Vita S.p.A."
   ]
  },
  {
   "cell_type": "markdown",
   "id": "d82171bc-2649-46bc-966d-92d666dfa70d",
   "metadata": {},
   "source": [
    "S.02.01.02 1"
   ]
  },
  {
   "cell_type": "code",
   "execution_count": 146,
   "id": "84eaa970-5b72-4af6-803a-f76564e7d10e",
   "metadata": {},
   "outputs": [],
   "source": [
    "unique_id = \"HELVETIA_VITA_01\"\n",
    "pdf_path, page_number, output_pdf_path, output_final_path, codes_path =  extract_paths(master_list=master_list, unique_id=unique_id)\n",
    "extract_page(input_pdf_path=pdf_path, output_pdf_path=output_pdf_path, page_number=page_number, password = \"\")"
   ]
  },
  {
   "cell_type": "code",
   "execution_count": 147,
   "id": "0b019cec-a946-4f52-b52e-62b828bec90f",
   "metadata": {},
   "outputs": [],
   "source": [
    "table = run_ocr_and_convert_to_df(path=output_pdf_path, api_key=api_key)"
   ]
  },
  {
   "cell_type": "code",
   "execution_count": 148,
   "id": "100b6573-5143-4f3b-b529-d5fc3e3fc0fe",
   "metadata": {},
   "outputs": [],
   "source": [
    "table.columns = [\"DESCRIPTION\",\"CODE\", \"C0010\"]"
   ]
  },
  {
   "cell_type": "code",
   "execution_count": 149,
   "id": "64c19fc3-3e93-41ee-9ffb-61e2ffae195b",
   "metadata": {},
   "outputs": [],
   "source": [
    "set_code_index_and_save(table=table, path=output_final_path)"
   ]
  },
  {
   "cell_type": "code",
   "execution_count": 150,
   "id": "a3b7f35e-470a-4c36-a9d9-f8a13809e7b1",
   "metadata": {},
   "outputs": [],
   "source": [
    "del table"
   ]
  },
  {
   "cell_type": "markdown",
   "id": "09669730-578e-456e-8464-54b06916a6de",
   "metadata": {},
   "source": [
    "S.02.01.02 2"
   ]
  },
  {
   "cell_type": "code",
   "execution_count": 151,
   "id": "d3526576-7d5f-4cb1-ba0b-d6a3df45973a",
   "metadata": {},
   "outputs": [],
   "source": [
    "unique_id = \"HELVETIA_VITA_02\"\n",
    "pdf_path, page_number, output_pdf_path, output_final_path, codes_path =  extract_paths(master_list=master_list, unique_id=unique_id)\n",
    "extract_page(input_pdf_path=pdf_path, output_pdf_path=output_pdf_path, page_number=page_number, password = \"\")"
   ]
  },
  {
   "cell_type": "code",
   "execution_count": 152,
   "id": "fc6488c9-fc55-421b-8d1b-f39e2743588f",
   "metadata": {},
   "outputs": [],
   "source": [
    "table = run_ocr_and_convert_to_df(path=output_pdf_path, api_key=api_key)"
   ]
  },
  {
   "cell_type": "code",
   "execution_count": 153,
   "id": "244ba0ef-dda6-415f-8d89-d036a8fac99c",
   "metadata": {},
   "outputs": [],
   "source": [
    "table.columns = [\"DESCRIPTION\",\"CODE\", \"C0010\"]"
   ]
  },
  {
   "cell_type": "code",
   "execution_count": 154,
   "id": "df132547-341e-40d5-a811-1bb193044e4f",
   "metadata": {},
   "outputs": [],
   "source": [
    "set_code_index_and_save(table=table, path=output_final_path)"
   ]
  },
  {
   "cell_type": "code",
   "execution_count": 155,
   "id": "9fe33520-4ebc-4eea-a4a2-dc510280f45d",
   "metadata": {},
   "outputs": [],
   "source": [
    "del table"
   ]
  },
  {
   "cell_type": "markdown",
   "id": "79dbed37-4641-4f3f-b713-9e794d959a70",
   "metadata": {},
   "source": [
    "## Vittoria Assicurazioni S.p.A."
   ]
  },
  {
   "cell_type": "markdown",
   "id": "ec654490-7a63-4e49-b975-28f0318982e1",
   "metadata": {},
   "source": [
    "S.02.01.02 1"
   ]
  },
  {
   "cell_type": "code",
   "execution_count": 156,
   "id": "805bf51d-67ab-4d4d-b6e7-02d6facf4916",
   "metadata": {},
   "outputs": [],
   "source": [
    "unique_id = \"VITTORIA_01\"\n",
    "pdf_path, page_number, output_pdf_path, output_final_path, codes_path =  extract_paths(master_list=master_list, unique_id=unique_id)\n",
    "extract_page(input_pdf_path=pdf_path, output_pdf_path=output_pdf_path, page_number=page_number, password = \"\")"
   ]
  },
  {
   "cell_type": "code",
   "execution_count": 157,
   "id": "cbde7644-d4bf-4624-8ea7-167744be5b7c",
   "metadata": {},
   "outputs": [],
   "source": [
    "table = run_ocr_and_convert_to_df(path=output_pdf_path, api_key=api_key)"
   ]
  },
  {
   "cell_type": "code",
   "execution_count": 158,
   "id": "b9b6b251-02b6-4721-bfaa-49c941083a9e",
   "metadata": {},
   "outputs": [],
   "source": [
    "table.columns = [\"CODE\", \"C0010\"] # ONE COLUMN LESS"
   ]
  },
  {
   "cell_type": "code",
   "execution_count": 159,
   "id": "9825de08-9ef5-4f7c-8e2c-98de9abff699",
   "metadata": {},
   "outputs": [],
   "source": [
    "set_code_index_and_save(table=table, path=output_final_path)"
   ]
  },
  {
   "cell_type": "code",
   "execution_count": 160,
   "id": "26046e5f-26e2-4f3a-b4e1-4eead9489a19",
   "metadata": {},
   "outputs": [],
   "source": [
    "del table"
   ]
  },
  {
   "cell_type": "markdown",
   "id": "636c7492-aea7-49c5-a12b-25b3e05fddcd",
   "metadata": {},
   "source": [
    "S.02.01.02 2"
   ]
  },
  {
   "cell_type": "code",
   "execution_count": 161,
   "id": "6d3a3161-c4a4-430a-80e7-2f30af9c8c8b",
   "metadata": {},
   "outputs": [],
   "source": [
    "unique_id = \"VITTORIA_02\"\n",
    "pdf_path, page_number, output_pdf_path, output_final_path, codes_path =  extract_paths(master_list=master_list, unique_id=unique_id)\n",
    "extract_page(input_pdf_path=pdf_path, output_pdf_path=output_pdf_path, page_number=page_number, password = \"\")"
   ]
  },
  {
   "cell_type": "code",
   "execution_count": 162,
   "id": "1f241220-d5cf-43f7-86f3-cb5b1fe50130",
   "metadata": {},
   "outputs": [],
   "source": [
    "table = run_ocr_and_convert_to_df(path=output_pdf_path, api_key=api_key)"
   ]
  },
  {
   "cell_type": "code",
   "execution_count": 163,
   "id": "7cb81929-16ec-400d-9e3e-9046491f5080",
   "metadata": {},
   "outputs": [],
   "source": [
    "table.columns = [\"CODE\", \"C0010\"] # ONE COLUMN LESS"
   ]
  },
  {
   "cell_type": "code",
   "execution_count": 164,
   "id": "87a66ccd-0173-4b34-b9e3-e2ee0c546735",
   "metadata": {},
   "outputs": [],
   "source": [
    "set_code_index_and_save(table=table, path=output_final_path)"
   ]
  },
  {
   "cell_type": "code",
   "execution_count": 165,
   "id": "41e1f337-88d4-49fd-ac8f-7ad37b750a86",
   "metadata": {},
   "outputs": [],
   "source": [
    "del table"
   ]
  },
  {
   "cell_type": "markdown",
   "id": "b822c2b1-9de8-4e8a-aa52-b43331e515a3",
   "metadata": {},
   "source": [
    "## GROUPAMA ASSICURAZIONI S.P.A."
   ]
  },
  {
   "cell_type": "markdown",
   "id": "71d21f5c-f048-4402-b456-b522099f4e2b",
   "metadata": {},
   "source": [
    "S.02.01.02"
   ]
  },
  {
   "cell_type": "code",
   "execution_count": 166,
   "id": "7f2213fa-d9b7-4164-b849-4d4f71d2218e",
   "metadata": {},
   "outputs": [],
   "source": [
    "unique_id = \"GROUPAMA_01\"\n",
    "pdf_path, page_number, output_pdf_path, output_final_path, codes_path =  extract_paths(master_list=master_list, unique_id=unique_id)\n",
    "extract_page(input_pdf_path=pdf_path, output_pdf_path=output_pdf_path, page_number=page_number, password = \"\")"
   ]
  },
  {
   "cell_type": "code",
   "execution_count": 167,
   "id": "1bde3fb1-115f-4046-9969-fbbf71c731e7",
   "metadata": {},
   "outputs": [],
   "source": [
    "table = run_ocr_and_convert_to_df(path=output_pdf_path, api_key=api_key)"
   ]
  },
  {
   "cell_type": "code",
   "execution_count": 168,
   "id": "1cbc4718-db9d-4098-a40e-0a9281f3c3ec",
   "metadata": {},
   "outputs": [],
   "source": [
    "table.columns = [\"DESCRIPTION\",\"CODE\", \"C0010\"]"
   ]
  },
  {
   "cell_type": "code",
   "execution_count": 169,
   "id": "b396d010-97ee-46d9-86d5-090ad3cd128c",
   "metadata": {},
   "outputs": [],
   "source": [
    "set_code_index_and_save(table=table, path=output_final_path)"
   ]
  },
  {
   "cell_type": "code",
   "execution_count": 170,
   "id": "9669012b-240e-4fd0-85e4-7293c836f299",
   "metadata": {},
   "outputs": [],
   "source": [
    "del table"
   ]
  },
  {
   "cell_type": "markdown",
   "id": "936e3c24-b4c4-42f0-a718-77916218059d",
   "metadata": {},
   "source": [
    "## UniCredit Allianz Vita S.p.A."
   ]
  },
  {
   "cell_type": "markdown",
   "id": "1048a77f-9c88-493d-86bb-bb51a6f0accd",
   "metadata": {},
   "source": [
    "S.02.01.02 1"
   ]
  },
  {
   "cell_type": "code",
   "execution_count": 171,
   "id": "1dcd68e9-db84-4439-aa1c-7f862841ca4c",
   "metadata": {},
   "outputs": [],
   "source": [
    "unique_id = \"ALLIANZ_UNICREDIT_01\"\n",
    "pdf_path, page_number, output_pdf_path, output_final_path, codes_path =  extract_paths(master_list=master_list, unique_id=unique_id)\n",
    "extract_page(input_pdf_path=pdf_path, output_pdf_path=output_pdf_path, page_number=page_number, password = \"\")"
   ]
  },
  {
   "cell_type": "code",
   "execution_count": 172,
   "id": "3d09981a-c628-489d-a8f9-3b28de6bc22d",
   "metadata": {},
   "outputs": [],
   "source": [
    "table = run_ocr_and_convert_to_df(path=output_pdf_path, api_key=api_key)"
   ]
  },
  {
   "cell_type": "code",
   "execution_count": 173,
   "id": "d5cb62eb-c8b3-4104-bc73-d42e2b3e88f6",
   "metadata": {},
   "outputs": [],
   "source": [
    "table.columns = [\"DESCRIPTION\",\"CODE\", \"C0010\"]"
   ]
  },
  {
   "cell_type": "code",
   "execution_count": 174,
   "id": "7dc391b2-d65b-410e-9a8b-4beb2f376ffc",
   "metadata": {},
   "outputs": [],
   "source": [
    "set_code_index_and_save(table=table, path=output_final_path)"
   ]
  },
  {
   "cell_type": "code",
   "execution_count": 175,
   "id": "3f52f2e6-c6d4-4f21-b717-3abcc00006a6",
   "metadata": {},
   "outputs": [],
   "source": [
    "del table"
   ]
  },
  {
   "cell_type": "markdown",
   "id": "7a440b78-5091-4cd4-9a6e-a13dc8d7ce0c",
   "metadata": {},
   "source": [
    "S.02.01.02 2"
   ]
  },
  {
   "cell_type": "code",
   "execution_count": 176,
   "id": "b49a8edf-be67-425e-8142-e2ee48025cd8",
   "metadata": {},
   "outputs": [],
   "source": [
    "unique_id = \"ALLIANZ_UNICREDIT_02\"\n",
    "pdf_path, page_number, output_pdf_path, output_final_path, codes_path =  extract_paths(master_list=master_list, unique_id=unique_id)\n",
    "extract_page(input_pdf_path=pdf_path, output_pdf_path=output_pdf_path, page_number=page_number, password = \"\")"
   ]
  },
  {
   "cell_type": "code",
   "execution_count": 177,
   "id": "de5a5042-0877-43e4-ac47-68aecebd26e2",
   "metadata": {},
   "outputs": [],
   "source": [
    "table = run_ocr_and_convert_to_df(path=output_pdf_path, api_key=api_key)"
   ]
  },
  {
   "cell_type": "code",
   "execution_count": 178,
   "id": "94677bb5-549b-4360-ab78-63182a20f646",
   "metadata": {},
   "outputs": [],
   "source": [
    "table.columns = [\"DESCRIPTION\",\"CODE\", \"C0010\"]"
   ]
  },
  {
   "cell_type": "code",
   "execution_count": 179,
   "id": "734ea074-4c92-46ba-b229-701c9f490429",
   "metadata": {},
   "outputs": [],
   "source": [
    "set_code_index_and_save(table=table, path=output_final_path)"
   ]
  },
  {
   "cell_type": "code",
   "execution_count": 180,
   "id": "d669ca99-85b7-42c6-a258-7d642143ecf7",
   "metadata": {},
   "outputs": [],
   "source": [
    "del table"
   ]
  },
  {
   "cell_type": "markdown",
   "id": "bd0f4222-378d-4851-a478-c49b33dcb2d7",
   "metadata": {},
   "source": [
    "## Zurich Investments Life S.p.A."
   ]
  },
  {
   "cell_type": "markdown",
   "id": "304a1fc9-f4bb-4ba6-8a7a-74b6fbcf524d",
   "metadata": {},
   "source": [
    "S.02.01.02 1 "
   ]
  },
  {
   "cell_type": "code",
   "execution_count": 181,
   "id": "d67fc3d5-54a6-4fbf-aa6f-8ecdad2029e0",
   "metadata": {},
   "outputs": [],
   "source": [
    "unique_id = \"ZURICH_LIFE_01\"\n",
    "pdf_path, page_number, output_pdf_path, output_final_path, codes_path =  extract_paths(master_list=master_list, unique_id=unique_id)\n",
    "extract_page(input_pdf_path=pdf_path, output_pdf_path=output_pdf_path, page_number=page_number, password = \"\")"
   ]
  },
  {
   "cell_type": "code",
   "execution_count": 182,
   "id": "28c14e49-63d0-4133-a606-cdcd46ba281d",
   "metadata": {},
   "outputs": [],
   "source": [
    "markdown_text = run_mistral_ocr(output_pdf_path, api_key)\n",
    "table = ocr_to_dataframe(markdown_text)"
   ]
  },
  {
   "cell_type": "code",
   "execution_count": 183,
   "id": "ee9a25f0-7116-40cc-900d-67fedc3f8542",
   "metadata": {},
   "outputs": [],
   "source": [
    "table.columns = [\"CODE\", \"DESCRIPTION\", \"C0010\"]"
   ]
  },
  {
   "cell_type": "code",
   "execution_count": 184,
   "id": "22f6e506-07dd-432c-ae42-aa6f191606a9",
   "metadata": {},
   "outputs": [],
   "source": [
    "set_code_index_and_save(table=table, path=output_final_path)"
   ]
  },
  {
   "cell_type": "code",
   "execution_count": 185,
   "id": "9ca0bd38-1e00-453e-99bc-13502993bc88",
   "metadata": {},
   "outputs": [],
   "source": [
    "del table"
   ]
  },
  {
   "cell_type": "markdown",
   "id": "9e8c3d7c-eb9f-4278-9581-e9657ab3ee03",
   "metadata": {},
   "source": [
    "S.02.01.02 2"
   ]
  },
  {
   "cell_type": "code",
   "execution_count": 186,
   "id": "09626097-0ef7-437c-bd00-ac3e9f4e4e08",
   "metadata": {},
   "outputs": [],
   "source": [
    "unique_id = \"ZURICH_LIFE_02\"\n",
    "pdf_path, page_number, output_pdf_path, output_final_path, codes_path =  extract_paths(master_list=master_list, unique_id=unique_id)\n",
    "extract_page(input_pdf_path=pdf_path, output_pdf_path=output_pdf_path, page_number=page_number, password = \"\")"
   ]
  },
  {
   "cell_type": "code",
   "execution_count": 187,
   "id": "01190d02-f20f-4aa9-947b-3f909d963b46",
   "metadata": {},
   "outputs": [],
   "source": [
    "markdown_text = run_mistral_ocr(output_pdf_path, api_key)\n",
    "table = ocr_to_dataframe(markdown_text)"
   ]
  },
  {
   "cell_type": "code",
   "execution_count": 188,
   "id": "30156262-9574-4fe0-b7bd-7b150f11aca2",
   "metadata": {},
   "outputs": [],
   "source": [
    "table.columns = [\"CODE\", \"DESCRIPTION\", \"C0010\"]"
   ]
  },
  {
   "cell_type": "code",
   "execution_count": 189,
   "id": "2d431ea3-26d2-4536-8efc-632138cbe69d",
   "metadata": {},
   "outputs": [],
   "source": [
    "set_code_index_and_save(table=table, path=output_final_path)"
   ]
  },
  {
   "cell_type": "code",
   "execution_count": 190,
   "id": "9a140cad-f2b6-4c8f-87ec-c6181f0d9450",
   "metadata": {},
   "outputs": [],
   "source": [
    "del table"
   ]
  }
 ],
 "metadata": {
  "kernelspec": {
   "display_name": "Python 3 (ipykernel)",
   "language": "python",
   "name": "python3"
  },
  "language_info": {
   "codemirror_mode": {
    "name": "ipython",
    "version": 3
   },
   "file_extension": ".py",
   "mimetype": "text/x-python",
   "name": "python",
   "nbconvert_exporter": "python",
   "pygments_lexer": "ipython3",
   "version": "3.12.3"
  }
 },
 "nbformat": 4,
 "nbformat_minor": 5
}
